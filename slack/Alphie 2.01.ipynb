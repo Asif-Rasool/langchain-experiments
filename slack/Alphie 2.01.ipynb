{
 "cells": [
  {
   "cell_type": "markdown",
   "id": "e33d2888-da71-41ba-a503-f65342c82fca",
   "metadata": {},
   "source": [
    "# Importing required packages"
   ]
  },
  {
   "cell_type": "code",
   "execution_count": 1,
   "id": "bcfce221-575f-4cb7-8df3-f532c7b76d0a",
   "metadata": {},
   "outputs": [],
   "source": [
    "import os\n",
    "import re\n",
    "from flask import Flask, request\n",
    "from slack_sdk import WebClient\n",
    "from slack_bolt import App\n",
    "from slack_bolt.adapter.flask import SlackRequestHandler\n",
    "import pandas as pd\n",
    "import fitz  # PyMuPDF\n",
    "from langchain.text_splitter import RecursiveCharacterTextSplitter\n",
    "from langchain.embeddings.openai import OpenAIEmbeddings\n",
    "from langchain.vectorstores import FAISS\n",
    "from langchain.chains import LLMChain\n",
    "from langchain.chains.question_answering import load_qa_chain\n",
    "from langchain.llms import OpenAI\n",
    "from langchain.chat_models import ChatOpenAI\n",
    "from langchain.memory import ConversationBufferMemory\n",
    "from langchain.prompts.chat import ChatPromptTemplate, SystemMessagePromptTemplate, HumanMessagePromptTemplate\n",
    "from dotenv import find_dotenv, load_dotenv\n",
    "from serpapi import GoogleSearch\n",
    "import wikipedia"
   ]
  },
  {
   "cell_type": "markdown",
   "id": "7d9478c6-b999-44a4-91ee-0e065836a169",
   "metadata": {},
   "source": [
    "# Load environment variables"
   ]
  },
  {
   "cell_type": "code",
   "execution_count": 2,
   "id": "bac86c1a-0e6d-40be-addf-4ba077cfdd93",
   "metadata": {},
   "outputs": [
    {
     "data": {
      "text/plain": [
       "True"
      ]
     },
     "execution_count": 2,
     "metadata": {},
     "output_type": "execute_result"
    }
   ],
   "source": [
    "load_dotenv(find_dotenv())"
   ]
  },
  {
   "cell_type": "markdown",
   "id": "b8b1f9ce-965b-4cb6-b29b-65f4ad9771cb",
   "metadata": {},
   "source": [
    "# Set Slack API credentials"
   ]
  },
  {
   "cell_type": "code",
   "execution_count": 3,
   "id": "94719837-19e6-4275-bc30-3b2576cfdb4a",
   "metadata": {},
   "outputs": [],
   "source": [
    "SLACK_BOT_TOKEN = os.environ[\"SLACK_BOT_TOKEN\"]\n",
    "SLACK_SIGNING_SECRET = os.environ[\"SLACK_SIGNING_SECRET\"]"
   ]
  },
  {
   "cell_type": "markdown",
   "id": "544cc316-3d3a-4191-ba9d-45930726625f",
   "metadata": {},
   "source": [
    "# Initialize the Slack app and Flask app only once"
   ]
  },
  {
   "cell_type": "code",
   "execution_count": 4,
   "id": "9c85dbc8-c1fb-45d2-8556-68bc4fa7c95d",
   "metadata": {},
   "outputs": [],
   "source": [
    "app = App(token=SLACK_BOT_TOKEN, signing_secret=SLACK_SIGNING_SECRET)\n",
    "flask_app = Flask(__name__)\n",
    "handler = SlackRequestHandler(app)"
   ]
  },
  {
   "cell_type": "markdown",
   "id": "5400e415-1d1a-42eb-bd53-5bfeec2f6cfc",
   "metadata": {},
   "source": [
    "# OpenAI-based language model with conversational capabilities"
   ]
  },
  {
   "cell_type": "code",
   "execution_count": 5,
   "id": "cd953c4a-2e59-42a0-86cf-572b10844bb8",
   "metadata": {},
   "outputs": [
    {
     "name": "stderr",
     "output_type": "stream",
     "text": [
      "C:\\Users\\asifr\\AppData\\Local\\anaconda3\\Lib\\site-packages\\langchain_core\\_api\\deprecation.py:119: LangChainDeprecationWarning: The class `ChatOpenAI` was deprecated in LangChain 0.0.10 and will be removed in 0.3.0. An updated version of the class exists in the langchain-openai package and should be used instead. To use it run `pip install -U langchain-openai` and import as `from langchain_openai import ChatOpenAI`.\n",
      "  warn_deprecated(\n"
     ]
    }
   ],
   "source": [
    "chat = ChatOpenAI(model_name=\"gpt-3.5-turbo\", temperature=0.5)"
   ]
  },
  {
   "cell_type": "markdown",
   "id": "e5df4b29-cec3-43a0-abd8-e0aa9d4aecc5",
   "metadata": {},
   "source": [
    "# Create a memory buffer for maintaining context in conversations"
   ]
  },
  {
   "cell_type": "code",
   "execution_count": 6,
   "id": "f020a0ef-a3a2-4387-b429-6124c044b660",
   "metadata": {},
   "outputs": [],
   "source": [
    "memory = ConversationBufferMemory(memory_key=\"conversation\", return_messages=True, k=20)"
   ]
  },
  {
   "cell_type": "markdown",
   "id": "8eb8857b-a55b-41e0-8780-7c0d13c9bf0b",
   "metadata": {},
   "source": [
    "# Create system and human prompts"
   ]
  },
  {
   "cell_type": "code",
   "execution_count": 7,
   "id": "7a6ec82e-2d86-400b-bd62-d05cb88a713b",
   "metadata": {},
   "outputs": [],
   "source": [
    "system_template = \"\"\"\n",
    "You are Alphie, a highly capable AI assistant.\n",
    "Your main roles are to:\n",
    "- Answer user questions with detailed and accurate information.\n",
    "- Assist with various tasks, including programming, debugging, writing, data analysis, and more.\n",
    "- Provide suggestions for personal and professional development.\n",
    "- Help with productivity, organization, and automation.\n",
    "- Engage in meaningful conversations, maintaining context to ensure continuity.\n",
    "\n",
    "Key characteristics:\n",
    "- Be friendly, helpful, and responsive.\n",
    "- Offer clear explanations and useful advice.\n",
    "- When necessary, reference sources to increase reliability and transparency.\n",
    "- Guide users to appropriate resources or solutions, and be clear about any limitations.\n",
    "\n",
    "Specific guidance:\n",
    "- For technical queries, aim to be thorough and offer code examples when appropriate.\n",
    "- For general knowledge, be informative and concise.\n",
    "- For questions about specific documents or content, extract relevant information and mention sources.\n",
    "- When unsure, ask users for clarification or suggest additional resources.\n",
    "\n",
    "Your mission is to create a seamless user experience, helping users achieve their goals while ensuring a clear and supportive communication style.\n",
    "\"\"\"\n",
    "\n",
    "system_message_prompt = SystemMessagePromptTemplate.from_template(system_template)\n",
    "human_template = \"User says: {user_input}.\"\n",
    "human_message_prompt = HumanMessagePromptTemplate.from_template(human_template)\n",
    "\n",
    "chat_prompt = ChatPromptTemplate.from_messages([system_message_prompt, human_message_prompt])\n"
   ]
  },
  {
   "cell_type": "markdown",
   "id": "5af96d49-8b31-4662-85e5-3722d3c885ae",
   "metadata": {},
   "source": [
    "# Conversational chain with memory"
   ]
  },
  {
   "cell_type": "code",
   "execution_count": 8,
   "id": "dcf0cc9a-6e1f-4485-86f3-148611531298",
   "metadata": {},
   "outputs": [
    {
     "name": "stderr",
     "output_type": "stream",
     "text": [
      "C:\\Users\\asifr\\AppData\\Local\\anaconda3\\Lib\\site-packages\\langchain_core\\_api\\deprecation.py:119: LangChainDeprecationWarning: The class `LLMChain` was deprecated in LangChain 0.1.17 and will be removed in 0.3.0. Use RunnableSequence, e.g., `prompt | llm` instead.\n",
      "  warn_deprecated(\n"
     ]
    }
   ],
   "source": [
    "chain = LLMChain(llm=chat, prompt=chat_prompt, memory=memory)"
   ]
  },
  {
   "cell_type": "markdown",
   "id": "9fd5eeab-e4d5-4d08-8bf1-a745fa166c00",
   "metadata": {},
   "source": [
    "# Installing & importing functions"
   ]
  },
  {
   "cell_type": "code",
   "execution_count": 9,
   "id": "bd2a17a6-9e51-4d68-ad89-d4db80fd21d3",
   "metadata": {},
   "outputs": [
    {
     "name": "stdout",
     "output_type": "stream",
     "text": [
      "Requirement already satisfied: functions in c:\\users\\asifr\\appdata\\roaming\\python\\python311\\site-packages (0.7.0)\n"
     ]
    },
    {
     "name": "stderr",
     "output_type": "stream",
     "text": [
      "WARNING: Skipping C:\\Users\\asifr\\AppData\\Local\\anaconda3\\Lib\\site-packages\\pyzmq-24.0.1.dist-info due to invalid metadata entry 'name'\n",
      "WARNING: Skipping C:\\Users\\asifr\\AppData\\Local\\anaconda3\\Lib\\site-packages\\pyzmq-24.0.1.dist-info due to invalid metadata entry 'name'\n",
      "WARNING: Skipping C:\\Users\\asifr\\AppData\\Local\\anaconda3\\Lib\\site-packages\\pyzmq-24.0.1.dist-info due to invalid metadata entry 'name'\n",
      "WARNING: Skipping C:\\Users\\asifr\\AppData\\Local\\anaconda3\\Lib\\site-packages\\pyzmq-24.0.1.dist-info due to invalid metadata entry 'name'\n"
     ]
    }
   ],
   "source": [
    "!pip install functions\n",
    "\n",
    "from functions import extract_text_from_pdf #1\n",
    "from functions import clean_text #2\n",
    "from functions import analyze_pdf #3\n",
    "from functions import get_pdf_path_from_keyword #4\n",
    "from functions import google_search #5\n",
    "from functions import get_wikipedia_summary #6\n",
    "\n"
   ]
  },
  {
   "cell_type": "markdown",
   "id": "442960ba-0256-449a-9f0e-fcf56c97d6f8",
   "metadata": {},
   "source": [
    "# Load the mapping from the CSV file for keyword-to-PDF mapping"
   ]
  },
  {
   "cell_type": "code",
   "execution_count": 10,
   "id": "591456e7-7a38-4bc3-8f35-ee08f27b2701",
   "metadata": {},
   "outputs": [],
   "source": [
    "csv_path = \"C:/Users/asifr/OneDrive - State of New Mexico\\Documents/GitHub/langchain-experiments/slack/output_tables/article_titles.csv\"  # Update with correct path\n",
    "pdf_dir = \"articles_output\"  # Directory with PDFs\n",
    "\n",
    "article_pdf_map = {}\n",
    "df = pd.read_csv(csv_path)"
   ]
  },
  {
   "cell_type": "markdown",
   "id": "c87f0ad0-319a-4866-8e64-a24a366cde87",
   "metadata": {},
   "source": [
    "# Populate the dictionary with ARTICLE numbers and short titles"
   ]
  },
  {
   "cell_type": "code",
   "execution_count": 11,
   "id": "5e394dcc-ba72-4a89-baa1-f4908b6f1b62",
   "metadata": {},
   "outputs": [],
   "source": [
    "for _, row in df.iterrows():\n",
    "    article_number = row[\"ARTICLE Number\"]\n",
    "    short_title = row[\"Short Title\"]\n",
    "\n",
    "    pdf_name = f\"ARTICLE {article_number}.pdf\"\n",
    "    pdf_path = os.path.join(pdf_dir, pdf_name)\n",
    "\n",
    "    article_pdf_map[article_number] = pdf_path\n",
    "    article_pdf_map[short_title.lower()] = pdf_path"
   ]
  },
  {
   "cell_type": "markdown",
   "id": "16cd1acd-d274-4013-bc8f-75b47bb01598",
   "metadata": {},
   "source": [
    "# Slack event handler for message events"
   ]
  },
  {
   "cell_type": "code",
   "execution_count": 12,
   "id": "1748b683-c6a8-471c-87ff-f432f781390c",
   "metadata": {},
   "outputs": [],
   "source": [
    "@app.event(\"message\")\n",
    "def handle_message_events(event, say):\n",
    "    user_text = event.get(\"text\", \"\").lower()\n",
    "\n",
    "    # Respond to greetings\n",
    "    if user_text in [\"hi\", \"hello\", \"hey\"]:\n",
    "        say(\"Hello! I'm Alphie, your friendly AI assistant at the New Mexico Tax & Rev. How can I help you today?\")\n",
    "        return\n",
    "\n",
    "    # Google Search functionality\n",
    "    if \"search\" in user_text:\n",
    "        query = user_text.replace(\"search\", \"\").strip()\n",
    "        search_results = google_search(query)\n",
    "\n",
    "        results_text = \"\\n\".join(\n",
    "            [f\"- {result['title']}: {result['link']}\" for result in search_results.get(\"organic_results\", [])[:3]]\n",
    "        )\n",
    "        say(f\"Here are some search results for '{query}':\\n{results_text}\")\n",
    "        return\n",
    "\n",
    "    # Wikipedia search functionality\n",
    "    if \"what is\" in user_text:\n",
    "        topic = user_text.replace(\"what is\", \"\").strip()\n",
    "        wikipedia_summary = get_wikipedia_summary(topic)\n",
    "        say(wikipedia_summary)\n",
    "        return\n",
    "\n",
    "    # Default response for other queries\n",
    "    if pdf_path := get_pdf_path_from_keyword(user_text):\n",
    "        question = re.sub(r\"(\" + \"|\".join(article_pdf_map.keys()) + \")\", \"\", user_text).strip()\n",
    "        response = analyze_pdf(pdf_path, question)\n",
    "\n",
    "        if not response or \"I don't know\" in response:\n",
    "            say(\"I'm not sure I understood that. Could you please rephrase your question?\")\n",
    "        else:\n",
    "            say(response)\n",
    "    else:\n",
    "        response = chain.run({\"user_input\": user_text})\n",
    "        say(response)"
   ]
  },
  {
   "cell_type": "markdown",
   "id": "3adeaf6d-1c1c-40b8-b3d9-a33b817f02c6",
   "metadata": {},
   "source": [
    "# Flask endpoint for Slack events"
   ]
  },
  {
   "cell_type": "code",
   "execution_count": 13,
   "id": "24dbdd4f-f6e4-433b-9f1d-bfbdd86d070a",
   "metadata": {},
   "outputs": [],
   "source": [
    "@flask_app.route(\"/slack/events\", methods=[\"POST\"])\n",
    "def slack_events():\n",
    "    return handler.handle(request)"
   ]
  },
  {
   "cell_type": "code",
   "execution_count": 14,
   "id": "09a6b2b1-fc43-48f5-8c7b-0c7824719385",
   "metadata": {},
   "outputs": [],
   "source": [
    "# Initialize the Flask app"
   ]
  },
  {
   "cell_type": "code",
   "execution_count": 15,
   "id": "667e9fde-0b57-4fc7-802c-fb005332b23f",
   "metadata": {},
   "outputs": [
    {
     "name": "stdout",
     "output_type": "stream",
     "text": [
      " * Serving Flask app '__main__'\n",
      " * Debug mode: off\n"
     ]
    },
    {
     "name": "stderr",
     "output_type": "stream",
     "text": [
      "WARNING: This is a development server. Do not use it in a production deployment. Use a production WSGI server instead.\n",
      " * Running on http://127.0.0.1:8080\n",
      "Press CTRL+C to quit\n"
     ]
    }
   ],
   "source": [
    "if __name__ in \"__main__\":\n",
    "    flask_app.run(port=8080)\n"
   ]
  }
 ],
 "metadata": {
  "kernelspec": {
   "display_name": "Python 3 (ipykernel)",
   "language": "python",
   "name": "python3"
  },
  "language_info": {
   "codemirror_mode": {
    "name": "ipython",
    "version": 3
   },
   "file_extension": ".py",
   "mimetype": "text/x-python",
   "name": "python",
   "nbconvert_exporter": "python",
   "pygments_lexer": "ipython3",
   "version": "3.11.7"
  }
 },
 "nbformat": 4,
 "nbformat_minor": 5
}
