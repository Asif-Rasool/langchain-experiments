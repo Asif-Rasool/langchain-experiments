{
 "cells": [
  {
   "cell_type": "code",
   "execution_count": null,
   "id": "65d14199-0448-4bb9-87a9-9a1e8c500b87",
   "metadata": {},
   "outputs": [],
   "source": [
    "# !pip install langchain\n",
    "# !pip install openai\n",
    "# !pip install PyPDF2\n",
    "# !pip install faiss-cpu\n",
    "# !pip install tiktoken\n"
   ]
  },
  {
   "cell_type": "code",
   "execution_count": null,
   "id": "3e024be2-0893-4a29-b485-9c4bbda2b446",
   "metadata": {},
   "outputs": [],
   "source": [
    "# Load environment variables from .env file\n",
    "from dotenv import find_dotenv, load_dotenv\n",
    "load_dotenv(find_dotenv())"
   ]
  },
  {
   "cell_type": "code",
   "execution_count": null,
   "id": "f2202ee5-1b69-4517-9ed8-72f8f84c459b",
   "metadata": {},
   "outputs": [],
   "source": [
    "from PyPDF2 import PdfReader\n",
    "from langchain.embeddings.openai import OpenAIEmbeddings\n",
    "from langchain.text_splitter import CharacterTextSplitter\n",
    "from langchain.vectorstores import ElasticVectorSearch, Pinecone, Weaviate, FAISS"
   ]
  },
  {
   "cell_type": "code",
   "execution_count": 19,
   "id": "84950ac2-b5c7-44d6-9290-b5eab8776bea",
   "metadata": {},
   "outputs": [],
   "source": [
    "# location of the pdf file/files. \n",
    "reader = PdfReader('Article 17.pdf')"
   ]
  },
  {
   "cell_type": "code",
   "execution_count": 20,
   "id": "462ca3bd-e300-4c1f-b2b8-3dd8c398c961",
   "metadata": {},
   "outputs": [],
   "source": [
    "# read data from the file and put them into a variable called raw_text\n",
    "raw_text = ''\n",
    "for i, page in enumerate(reader.pages):\n",
    "    text = page.extract_text()\n",
    "    if text:\n",
    "        raw_text += text"
   ]
  },
  {
   "cell_type": "code",
   "execution_count": 21,
   "id": "28c75fd2-9cc4-44fb-82c1-1dfc6ac711f0",
   "metadata": {},
   "outputs": [
    {
     "data": {
      "text/plain": [
       "' \\n ANNOTATIONS \\nCross references.  — For duty of successor in business, see 7-1-61 NMSA 1978 et \\nseq'"
      ]
     },
     "execution_count": 21,
     "metadata": {},
     "output_type": "execute_result"
    }
   ],
   "source": [
    "raw_text[:100]"
   ]
  },
  {
   "cell_type": "code",
   "execution_count": 22,
   "id": "b4a320e5-f2ee-476f-b4fe-4bae483b8cbe",
   "metadata": {},
   "outputs": [],
   "source": [
    "# We need to split the text that we read into smaller chunks so that during information retreival we don't hit the token size limits. \n",
    "\n",
    "text_splitter = CharacterTextSplitter(        \n",
    "    separator = \"\\n\",\n",
    "    chunk_size = 1000,\n",
    "    chunk_overlap  = 200,\n",
    "    length_function = len,\n",
    ")\n",
    "texts = text_splitter.split_text(raw_text)"
   ]
  },
  {
   "cell_type": "code",
   "execution_count": 23,
   "id": "445bdf80-173d-446a-8fbd-8e59e3483022",
   "metadata": {},
   "outputs": [
    {
     "data": {
      "text/plain": [
       "28"
      ]
     },
     "execution_count": 23,
     "metadata": {},
     "output_type": "execute_result"
    }
   ],
   "source": [
    "len(texts)"
   ]
  },
  {
   "cell_type": "code",
   "execution_count": 24,
   "id": "bcd38c26-6463-41e2-8292-9ce2229312a2",
   "metadata": {},
   "outputs": [
    {
     "data": {
      "text/plain": [
       "'ANNOTATIONS \\nCross references.  — For duty of successor in business, see 7-1-61 NMSA 1978 et \\nseq.  \\nAm. Jur. 2d, A.L.R. and C.J.S. references.  — 45 Am. Jur. 2d Intoxicating Liquors §§ \\n203 to 219.  \\n48 C.J.S. Intoxicating Liquors §§ 199 to 212.  \\n7-17-2. Definitions. \\nAs used in the Liquor Excise Tax Act:  A. \"alcoholic beverages\" means distilled or  rectified spirits, potable alcohol, brandy, \\nwhiskey, rum, gin, aromatic bitters or an y similar beverage, including blended or \\nfermented beverages, dilutions or mixtures of  one or more of the foregoing containing \\nmore than one-half of one percent alcohol by volume, but \"alcoholic beverages\" does not include medicinal bitters; \\nB. \"beer\" means an alcoholic beverage obta ined by the fermentation of any infusion \\nor decoction of barley, malt and hops or other cereals in water and includes porter, \\nbeer, ale and stout; \\nC. \"cider\" means an alcoholic beverage made from the normal alcoholic'"
      ]
     },
     "execution_count": 24,
     "metadata": {},
     "output_type": "execute_result"
    }
   ],
   "source": [
    "texts[0]"
   ]
  },
  {
   "cell_type": "code",
   "execution_count": 25,
   "id": "f8a17bc1-7c73-4fe8-af21-91d13dd0f341",
   "metadata": {},
   "outputs": [
    {
     "data": {
      "text/plain": [
       "'or decoction of barley, malt and hops or other cereals in water and includes porter, \\nbeer, ale and stout; \\nC. \"cider\" means an alcoholic beverage made from the normal alcoholic \\nfermentation of the juice of sound, ripe apples or pears that contains not less than one-half of one percent of alcohol by volume and not more than eight and one-half percent of alcohol by volume; \\nD. \"department\" means the taxation and revenue department, the secretary of \\ntaxation and revenue or any employee of the department exercising authority lawfully delegated to that employee by the secretary; \\nE. \"fortified wine\" means wine containin g more than fourteen percent alcohol by \\nvolume when bottled or packaged by the manufacturer, but \"fortified wine\" does not include: \\n(1) wine that is sealed or capped by cork closure and aged two years or more; \\n(2) wine that contains more than four teen percent alcohol by volume solely as'"
      ]
     },
     "execution_count": 25,
     "metadata": {},
     "output_type": "execute_result"
    }
   ],
   "source": [
    "texts[1]"
   ]
  },
  {
   "cell_type": "code",
   "execution_count": 26,
   "id": "71ba9c8a-eed8-4225-bd39-b3ccc67e79ae",
   "metadata": {},
   "outputs": [],
   "source": [
    "# Download embeddings from OpenAI\n",
    "from langchain_openai import OpenAIEmbeddings\n",
    "embeddings = OpenAIEmbeddings()"
   ]
  },
  {
   "cell_type": "code",
   "execution_count": 27,
   "id": "02415a46-47a5-4074-8c4a-182ab76a1453",
   "metadata": {},
   "outputs": [],
   "source": [
    "docsearch = FAISS.from_texts(texts, embeddings)"
   ]
  },
  {
   "cell_type": "code",
   "execution_count": 28,
   "id": "fe3f84cd-0cf7-43a8-88c3-e942660687d5",
   "metadata": {},
   "outputs": [
    {
     "data": {
      "text/plain": [
       "<langchain_community.vectorstores.faiss.FAISS at 0x2156ce977d0>"
      ]
     },
     "execution_count": 28,
     "metadata": {},
     "output_type": "execute_result"
    }
   ],
   "source": [
    "docsearch"
   ]
  },
  {
   "cell_type": "code",
   "execution_count": 29,
   "id": "fa1eeef0-37ad-4f8e-918e-a0ebd19aaa01",
   "metadata": {},
   "outputs": [],
   "source": [
    "from langchain.chains.question_answering import load_qa_chain\n",
    "from langchain_openai import OpenAI"
   ]
  },
  {
   "cell_type": "code",
   "execution_count": 30,
   "id": "9d00aafc-77c0-479c-b4a0-a02afb9cf17f",
   "metadata": {},
   "outputs": [],
   "source": [
    "chain = load_qa_chain(OpenAI(), chain_type=\"stuff\")"
   ]
  },
  {
   "cell_type": "code",
   "execution_count": 31,
   "id": "10e73a50-3400-48a5-b6e0-7d21ddf69f28",
   "metadata": {},
   "outputs": [
    {
     "data": {
      "text/plain": [
       "' This article discusses various amendments made to NMSA 1978, § 7-17-5, which pertains to the excise tax rate on alcohol in the state of New Mexico. The amendments include changes to the tax rates for small wine growers and craft distillers, as well as the addition of a new tax rate for all barrels sold in the state. The article also mentions the dormant Commerce Clause and how it relates to state regulation of interstate commerce.'"
      ]
     },
     "execution_count": 31,
     "metadata": {},
     "output_type": "execute_result"
    }
   ],
   "source": [
    "query = \"what is this article about?\"\n",
    "docs = docsearch.similarity_search(query)\n",
    "chain.run(input_documents=docs, question=query)"
   ]
  },
  {
   "cell_type": "code",
   "execution_count": 32,
   "id": "02cb80cd-543e-46bf-b183-e357786ebcea",
   "metadata": {},
   "outputs": [
    {
     "data": {
      "text/plain": [
       "' According to the context provided, \"alcoholic beverage\" means any beverage containing more than one-half of one percent alcohol by volume, including distilled spirits, potable alcohol, brandy, whiskey, rum, gin, and fermented or blended beverages. However, it does not include medicinal bitters. This definition can be found in section A of Article 17.'"
      ]
     },
     "execution_count": 32,
     "metadata": {},
     "output_type": "execute_result"
    }
   ],
   "source": [
    "query = \"what does alcoholic beverage mean according to article 17?\"\n",
    "docs = docsearch.similarity_search(query)\n",
    "chain.run(input_documents=docs, question=query)"
   ]
  },
  {
   "cell_type": "code",
   "execution_count": 33,
   "id": "55b72aa2-d37b-4fe1-98a1-74cfc761f11d",
   "metadata": {},
   "outputs": [
    {
     "data": {
      "text/plain": [
       "' The 1993, 1994, 1995, 1996, 1997, and 2000 amendments.'"
      ]
     },
     "execution_count": 33,
     "metadata": {},
     "output_type": "execute_result"
    }
   ],
   "source": [
    "query = \"what are the ammendments in article 17?\"\n",
    "docs = docsearch.similarity_search(query)\n",
    "chain.run(input_documents=docs, question=query)"
   ]
  },
  {
   "cell_type": "code",
   "execution_count": 34,
   "id": "23d92ddf-f1d8-4986-a316-65c4c5144334",
   "metadata": {},
   "outputs": [
    {
     "data": {
      "text/plain": [
       "' The 2000 amendment increased the minimum production of wine from 375,000 liters to 560,000 liters, while the 2008 amendment increased it further to 950,000 liters. Additionally, the 2000 amendment changed the excise tax on beer produced by a microbrewer from 25 cents per gallon to 8 cents per gallon, while the 2008 amendment added a new tax rate for barrels sold over 10,000 barrels but fewer than 15,000 barrels. Overall, both amendments made changes to the production and taxation of alcohol, but the 2008 amendment had a greater impact on wine production and introduced a new tax rate for certain beer sales.'"
      ]
     },
     "execution_count": 34,
     "metadata": {},
     "output_type": "execute_result"
    }
   ],
   "source": [
    "query = \"Comapre and contrast amendments 2000 and 2008?\"\n",
    "docs = docsearch.similarity_search(query)\n",
    "chain.run(input_documents=docs, question=query)"
   ]
  },
  {
   "cell_type": "code",
   "execution_count": null,
   "id": "fb8191be-f98d-4608-88ad-b9f204b32187",
   "metadata": {},
   "outputs": [],
   "source": []
  },
  {
   "cell_type": "code",
   "execution_count": null,
   "id": "2c371b22-b315-497c-86d8-7c75853ef1a1",
   "metadata": {},
   "outputs": [],
   "source": [
    "#!/usr/bin/env python\n",
    "# coding: utf-8\n",
    "\n",
    "# Required Libraries\n",
    "import os\n",
    "from dotenv import find_dotenv, load_dotenv\n",
    "from PyPDF2 import PdfReader\n",
    "from langchain.text_splitter import CharacterTextSplitter\n",
    "from langchain.embeddings.openai import OpenAIEmbeddings\n",
    "from langchain.vectorstores import FAISS\n",
    "from langchain.chains.question_answering import load_qa_chain\n",
    "from langchain.llms import OpenAI\n",
    "\n",
    "# Load environment variables for API keys\n",
    "load_dotenv(find_dotenv())\n",
    "\n",
    "# Single Function to Load, Split, Embed, and Query a PDF\n",
    "def analyze_pdf(pdf_path, questions):\n",
    "    \"\"\"\n",
    "    Analyze a PDF file and return answers to a list of questions.\n",
    "    \n",
    "    :param pdf_path: Path to the PDF file\n",
    "    :param questions: List of questions to ask about the PDF\n",
    "    :return: Dictionary of question-answer pairs\n",
    "    \"\"\"\n",
    "    # Read the PDF file\n",
    "    reader = PdfReader(pdf_path)\n",
    "    raw_text = ''\n",
    "    for page in reader.pages:\n",
    "        text = page.extract_text()\n",
    "        if text:\n",
    "            raw_text += text\n",
    "\n",
    "    # Split the text into chunks\n",
    "    text_splitter = CharacterTextSplitter(\n",
    "        separator=\"\\n\",\n",
    "        chunk_size=1000,\n",
    "        chunk_overlap=200,\n",
    "        length_function=len,\n",
    "    )\n",
    "    texts = text_splitter.split_text(raw_text)\n",
    "\n",
    "    # Create embeddings and a vector store\n",
    "    embeddings = OpenAIEmbeddings()\n",
    "    docsearch = FAISS.from_texts(texts, embeddings)\n",
    "\n",
    "    # Load the QA chain with OpenAI LLM\n",
    "    chain = load_qa_chain(OpenAI(), chain_type=\"stuff\")\n",
    "\n",
    "    # Create a dictionary to store answers\n",
    "    answers = {}\n",
    "\n",
    "    # For each question, perform a similarity search and run the QA chain\n",
    "    for question in questions:\n",
    "        docs = docsearch.similarity_search(question)\n",
    "        answer = chain.run(input_documents=docs, question=question)\n",
    "        answers[question] = answer\n",
    "\n",
    "    return answers\n",
    "\n",
    "# Example usage\n",
    "if __name__ == \"__main__\":\n",
    "    pdf_path = \"Article 17.pdf\"\n",
    "    questions = [\n",
    "        \"What is this article about?\",\n",
    "        \"What does alcoholic beverage mean according to article 17?\",\n",
    "        \"What are the amendments in article 17?\",\n",
    "        \"Compare and contrast amendments 2000 and 2008?\",\n",
    "    ]\n",
    "    \n",
    "    results = analyze_pdf(pdf_path, questions)\n",
    "    \n",
    "    # Print out the answers\n",
    "    for question, answer in results.items():\n",
    "        print(f\"Question: {question}\\nAnswer: {answer}\\n\")"
   ]
  },
  {
   "cell_type": "code",
   "execution_count": null,
   "id": "46a81caa-d591-4598-929e-8ee82e082583",
   "metadata": {},
   "outputs": [],
   "source": []
  }
 ],
 "metadata": {
  "kernelspec": {
   "display_name": "Python 3 (ipykernel)",
   "language": "python",
   "name": "python3"
  },
  "language_info": {
   "codemirror_mode": {
    "name": "ipython",
    "version": 3
   },
   "file_extension": ".py",
   "mimetype": "text/x-python",
   "name": "python",
   "nbconvert_exporter": "python",
   "pygments_lexer": "ipython3",
   "version": "3.11.7"
  }
 },
 "nbformat": 4,
 "nbformat_minor": 5
}
