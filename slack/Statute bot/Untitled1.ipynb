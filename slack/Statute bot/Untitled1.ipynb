{
 "cells": [
  {
   "cell_type": "code",
   "execution_count": 17,
   "id": "eabe3f01-76de-48b2-b371-b90f72ee550e",
   "metadata": {},
   "outputs": [],
   "source": [
    "import os\n",
    "from dotenv import find_dotenv, load_dotenv\n",
    "from PyPDF2 import PdfReader\n",
    "from langchain.embeddings.openai import OpenAIEmbeddings\n",
    "from langchain.text_splitter import CharacterTextSplitter\n",
    "from langchain.vectorstores import FAISS\n",
    "from langchain.chains.question_answering import load_qa_chain\n",
    "from langchain.llms import OpenAI\n",
    "\n",
    "\n",
    "def load_environment_variables():\n",
    "    load_dotenv(find_dotenv())\n",
    "\n",
    "\n",
    "def read_pdf_text(pdf_path):\n",
    "    raw_text = ''\n",
    "    reader = PdfReader(pdf_path)\n",
    "    for page in reader.pages:\n",
    "        text = page.extract_text()\n",
    "        if text:\n",
    "            raw_text += text\n",
    "    return raw_text\n",
    "\n",
    "\n",
    "def split_text(raw_text, chunk_size=1000, chunk_overlap=200):\n",
    "    text_splitter = CharacterTextSplitter(\n",
    "        separator=\"\\n\",\n",
    "        chunk_size=chunk_size,\n",
    "        chunk_overlap=chunk_overlap,\n",
    "        length_function=len,\n",
    "    )\n",
    "    return text_splitter.split_text(raw_text)\n",
    "\n",
    "\n",
    "def create_embeddings_and_vectorstore(texts):\n",
    "    embeddings = OpenAIEmbeddings()\n",
    "    return FAISS.from_texts(texts, embeddings)\n",
    "\n",
    "\n",
    "def answer_question(vectorstore, question):\n",
    "    chain = load_qa_chain(OpenAI(), chain_type=\"stuff\")\n",
    "    docs = vectorstore.similarity_search(question)\n",
    "    return chain.run(input_documents=docs, question=question)\n",
    "\n",
    "\n",
    "def process_pdf_and_answer_questions(pdf_path, questions):\n",
    "    load_environment_variables()\n",
    "    raw_text = read_pdf_text(pdf_path)\n",
    "    texts = split_text(raw_text)\n",
    "    vectorstore = create_embeddings_and_vectorstore(texts)\n",
    "\n",
    "    results = {}\n",
    "    for question in questions:\n",
    "        answer = answer_question(vectorstore, question)\n",
    "        results[question] = answer\n",
    "\n",
    "    return results\n"
   ]
  },
  {
   "cell_type": "code",
   "execution_count": null,
   "id": "5c9ad7df-37ac-4222-9775-03065f719eb1",
   "metadata": {},
   "outputs": [],
   "source": []
  }
 ],
 "metadata": {
  "kernelspec": {
   "display_name": "Python 3 (ipykernel)",
   "language": "python",
   "name": "python3"
  },
  "language_info": {
   "codemirror_mode": {
    "name": "ipython",
    "version": 3
   },
   "file_extension": ".py",
   "mimetype": "text/x-python",
   "name": "python",
   "nbconvert_exporter": "python",
   "pygments_lexer": "ipython3",
   "version": "3.11.7"
  }
 },
 "nbformat": 4,
 "nbformat_minor": 5
}
