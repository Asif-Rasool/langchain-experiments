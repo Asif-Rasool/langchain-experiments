{
 "cells": [
  {
   "cell_type": "code",
   "execution_count": 3,
   "id": "d8eb3457-9b58-4489-a646-dd92289bb989",
   "metadata": {},
   "outputs": [
    {
     "name": "stderr",
     "output_type": "stream",
     "text": [
      "WARNING: Skipping C:\\Users\\asifr\\AppData\\Local\\anaconda3\\Lib\\site-packages\\pyzmq-24.0.1.dist-info due to invalid metadata entry 'name'\n",
      "WARNING: Skipping C:\\Users\\asifr\\AppData\\Local\\anaconda3\\Lib\\site-packages\\pyzmq-24.0.1.dist-info due to invalid metadata entry 'name'\n",
      "ERROR: Could not find a version that satisfies the requirement pdf_handler (from versions: none)\n",
      "ERROR: No matching distribution found for pdf_handler\n",
      "WARNING: Skipping C:\\Users\\asifr\\AppData\\Local\\anaconda3\\Lib\\site-packages\\pyzmq-24.0.1.dist-info due to invalid metadata entry 'name'\n"
     ]
    },
    {
     "ename": "NameError",
     "evalue": "name 'flask_app' is not defined",
     "output_type": "error",
     "traceback": [
      "\u001b[1;31m---------------------------------------------------------------------------\u001b[0m",
      "\u001b[1;31mNameError\u001b[0m                                 Traceback (most recent call last)",
      "Cell \u001b[1;32mIn[3], line 14\u001b[0m\n\u001b[0;32m     11\u001b[0m \u001b[38;5;28;01mfrom\u001b[39;00m \u001b[38;5;21;01mpdf_handler\u001b[39;00m \u001b[38;5;28;01mimport\u001b[39;00m extract_text_from_pdf\n\u001b[0;32m     13\u001b[0m \u001b[38;5;66;03m# Define the route for handling Slack events and PDF queries\u001b[39;00m\n\u001b[1;32m---> 14\u001b[0m \u001b[38;5;129m@flask_app\u001b[39m\u001b[38;5;241m.\u001b[39mroute(\u001b[38;5;124m\"\u001b[39m\u001b[38;5;124m/slack/events\u001b[39m\u001b[38;5;124m\"\u001b[39m, methods\u001b[38;5;241m=\u001b[39m[\u001b[38;5;124m\"\u001b[39m\u001b[38;5;124mPOST\u001b[39m\u001b[38;5;124m\"\u001b[39m])\n\u001b[0;32m     15\u001b[0m \u001b[38;5;129m@require_slack_verification\u001b[39m\n\u001b[0;32m     16\u001b[0m \u001b[38;5;28;01mdef\u001b[39;00m \u001b[38;5;21mslack_events\u001b[39m():\n\u001b[0;32m     17\u001b[0m \u001b[38;5;250m    \u001b[39m\u001b[38;5;124;03m\"\"\"\u001b[39;00m\n\u001b[0;32m     18\u001b[0m \u001b[38;5;124;03m    Route for handling Slack events and PDF queries.\u001b[39;00m\n\u001b[0;32m     19\u001b[0m \u001b[38;5;124;03m    This function passes the incoming HTTP request to the SlackRequestHandler for processing.\u001b[39;00m\n\u001b[1;32m   (...)\u001b[0m\n\u001b[0;32m     22\u001b[0m \u001b[38;5;124;03m        Response: The result of handling the request.\u001b[39;00m\n\u001b[0;32m     23\u001b[0m \u001b[38;5;124;03m    \"\"\"\u001b[39;00m\n\u001b[0;32m     24\u001b[0m     \u001b[38;5;66;03m# Check if the request is a Slack event\u001b[39;00m\n",
      "\u001b[1;31mNameError\u001b[0m: name 'flask_app' is not defined"
     ]
    }
   ],
   "source": [
    "!pip install pdf_handler\n",
    "from PyPDF2 import PdfReader\n",
    "from langchain.embeddings.openai import OpenAIEmbeddings\n",
    "from langchain.text_splitter import CharacterTextSplitter\n",
    "from langchain.vectorstores import ElasticVectorSearch, Pinecone, Weaviate, FAISS\n",
    "\n",
    "# Import the function from the pdf_handler module\n",
    "from pdf_handler import extract_text_from_pdf\n",
    "\n",
    "# Import the function from the pdf_handler module\n",
    "from pdf_handler import extract_text_from_pdf\n",
    "\n",
    "# Define the route for handling Slack events and PDF queries\n",
    "@flask_app.route(\"/slack/events\", methods=[\"POST\"])\n",
    "@require_slack_verification\n",
    "def slack_events():\n",
    "    \"\"\"\n",
    "    Route for handling Slack events and PDF queries.\n",
    "    This function passes the incoming HTTP request to the SlackRequestHandler for processing.\n",
    "\n",
    "    Returns:\n",
    "        Response: The result of handling the request.\n",
    "    \"\"\"\n",
    "    # Check if the request is a Slack event\n",
    "    if request.headers.get(\"Content-Type\") == \"application/json\":\n",
    "        # Handle Slack events using the SlackRequestHandler\n",
    "        return handler.handle(request)\n",
    "\n",
    "    # If the request is not a Slack event, it might be a PDF query\n",
    "    # Extract text from the pre-loaded PDF document\n",
    "    pdf_file_path = \"Article 17.pdf\"  # Adjust this path accordingly\n",
    "    raw_text = extract_text_from_pdf(pdf_file_path)\n",
    "\n",
    "    # Get the user query from the request\n",
    "    query = request.form.get(\"query\", \"\")\n",
    "\n",
    "    # Perform question-answering tasks based on the extracted text and user query\n",
    "    if query:\n",
    "        docs = docsearch.similarity_search(query)\n",
    "        response = chain.run(input_documents=docs, question=query)\n",
    "        return jsonify({\"response\": response}), 200\n",
    "    else:\n",
    "        return jsonify({\"error\": \"No query provided\"}), 400"
   ]
  },
  {
   "cell_type": "code",
   "execution_count": null,
   "id": "809ea1cb-1c0a-4a06-b4f4-88a1b5f056ca",
   "metadata": {},
   "outputs": [],
   "source": []
  }
 ],
 "metadata": {
  "kernelspec": {
   "display_name": "Python 3 (ipykernel)",
   "language": "python",
   "name": "python3"
  },
  "language_info": {
   "codemirror_mode": {
    "name": "ipython",
    "version": 3
   },
   "file_extension": ".py",
   "mimetype": "text/x-python",
   "name": "python",
   "nbconvert_exporter": "python",
   "pygments_lexer": "ipython3",
   "version": "3.11.7"
  }
 },
 "nbformat": 4,
 "nbformat_minor": 5
}
