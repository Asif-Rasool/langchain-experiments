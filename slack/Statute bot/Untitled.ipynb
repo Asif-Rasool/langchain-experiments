{
 "cells": [
  {
   "cell_type": "code",
   "execution_count": 1,
   "id": "65d14199-0448-4bb9-87a9-9a1e8c500b87",
   "metadata": {},
   "outputs": [],
   "source": [
    "# !pip install langchain\n",
    "# !pip install openai\n",
    "# !pip install PyPDF2\n",
    "# !pip install faiss-cpu\n",
    "# !pip install tiktoken\n"
   ]
  },
  {
   "cell_type": "code",
   "execution_count": 3,
   "id": "3e024be2-0893-4a29-b485-9c4bbda2b446",
   "metadata": {},
   "outputs": [
    {
     "data": {
      "text/plain": [
       "True"
      ]
     },
     "execution_count": 3,
     "metadata": {},
     "output_type": "execute_result"
    }
   ],
   "source": [
    "# Load environment variables from .env file\n",
    "from dotenv import find_dotenv, load_dotenv\n",
    "load_dotenv(find_dotenv())"
   ]
  },
  {
   "cell_type": "code",
   "execution_count": 4,
   "id": "f2202ee5-1b69-4517-9ed8-72f8f84c459b",
   "metadata": {},
   "outputs": [],
   "source": [
    "from PyPDF2 import PdfReader\n",
    "from langchain.embeddings.openai import OpenAIEmbeddings\n",
    "from langchain.text_splitter import CharacterTextSplitter\n",
    "from langchain.vectorstores import ElasticVectorSearch, Pinecone, Weaviate, FAISS"
   ]
  },
  {
   "cell_type": "code",
   "execution_count": 5,
   "id": "84950ac2-b5c7-44d6-9290-b5eab8776bea",
   "metadata": {},
   "outputs": [],
   "source": [
    "# location of the pdf file/files. \n",
    "reader = PdfReader('Article 17.pdf')"
   ]
  },
  {
   "cell_type": "code",
   "execution_count": 6,
   "id": "462ca3bd-e300-4c1f-b2b8-3dd8c398c961",
   "metadata": {},
   "outputs": [],
   "source": [
    "# read data from the file and put them into a variable called raw_text\n",
    "raw_text = ''\n",
    "for i, page in enumerate(reader.pages):\n",
    "    text = page.extract_text()\n",
    "    if text:\n",
    "        raw_text += text"
   ]
  },
  {
   "cell_type": "code",
   "execution_count": 7,
   "id": "28c75fd2-9cc4-44fb-82c1-1dfc6ac711f0",
   "metadata": {},
   "outputs": [
    {
     "data": {
      "text/plain": [
       "' \\n ANNOTATIONS \\nCross references.  — For duty of successor in business, see 7-1-61 NMSA 1978 et \\nseq'"
      ]
     },
     "execution_count": 7,
     "metadata": {},
     "output_type": "execute_result"
    }
   ],
   "source": [
    "raw_text[:100]"
   ]
  },
  {
   "cell_type": "code",
   "execution_count": 8,
   "id": "b4a320e5-f2ee-476f-b4fe-4bae483b8cbe",
   "metadata": {},
   "outputs": [],
   "source": [
    "# We need to split the text that we read into smaller chunks so that during information retreival we don't hit the token size limits. \n",
    "\n",
    "text_splitter = CharacterTextSplitter(        \n",
    "    separator = \"\\n\",\n",
    "    chunk_size = 1000,\n",
    "    chunk_overlap  = 200,\n",
    "    length_function = len,\n",
    ")\n",
    "texts = text_splitter.split_text(raw_text)"
   ]
  },
  {
   "cell_type": "code",
   "execution_count": 9,
   "id": "445bdf80-173d-446a-8fbd-8e59e3483022",
   "metadata": {},
   "outputs": [
    {
     "data": {
      "text/plain": [
       "28"
      ]
     },
     "execution_count": 9,
     "metadata": {},
     "output_type": "execute_result"
    }
   ],
   "source": [
    "len(texts)"
   ]
  },
  {
   "cell_type": "code",
   "execution_count": 10,
   "id": "bcd38c26-6463-41e2-8292-9ce2229312a2",
   "metadata": {},
   "outputs": [
    {
     "data": {
      "text/plain": [
       "'ANNOTATIONS \\nCross references.  — For duty of successor in business, see 7-1-61 NMSA 1978 et \\nseq.  \\nAm. Jur. 2d, A.L.R. and C.J.S. references.  — 45 Am. Jur. 2d Intoxicating Liquors §§ \\n203 to 219.  \\n48 C.J.S. Intoxicating Liquors §§ 199 to 212.  \\n7-17-2. Definitions. \\nAs used in the Liquor Excise Tax Act:  A. \"alcoholic beverages\" means distilled or  rectified spirits, potable alcohol, brandy, \\nwhiskey, rum, gin, aromatic bitters or an y similar beverage, including blended or \\nfermented beverages, dilutions or mixtures of  one or more of the foregoing containing \\nmore than one-half of one percent alcohol by volume, but \"alcoholic beverages\" does not include medicinal bitters; \\nB. \"beer\" means an alcoholic beverage obta ined by the fermentation of any infusion \\nor decoction of barley, malt and hops or other cereals in water and includes porter, \\nbeer, ale and stout; \\nC. \"cider\" means an alcoholic beverage made from the normal alcoholic'"
      ]
     },
     "execution_count": 10,
     "metadata": {},
     "output_type": "execute_result"
    }
   ],
   "source": [
    "texts[0]"
   ]
  },
  {
   "cell_type": "code",
   "execution_count": 11,
   "id": "f8a17bc1-7c73-4fe8-af21-91d13dd0f341",
   "metadata": {},
   "outputs": [
    {
     "data": {
      "text/plain": [
       "'or decoction of barley, malt and hops or other cereals in water and includes porter, \\nbeer, ale and stout; \\nC. \"cider\" means an alcoholic beverage made from the normal alcoholic \\nfermentation of the juice of sound, ripe apples or pears that contains not less than one-half of one percent of alcohol by volume and not more than eight and one-half percent of alcohol by volume; \\nD. \"department\" means the taxation and revenue department, the secretary of \\ntaxation and revenue or any employee of the department exercising authority lawfully delegated to that employee by the secretary; \\nE. \"fortified wine\" means wine containin g more than fourteen percent alcohol by \\nvolume when bottled or packaged by the manufacturer, but \"fortified wine\" does not include: \\n(1) wine that is sealed or capped by cork closure and aged two years or more; \\n(2) wine that contains more than four teen percent alcohol by volume solely as'"
      ]
     },
     "execution_count": 11,
     "metadata": {},
     "output_type": "execute_result"
    }
   ],
   "source": [
    "texts[1]"
   ]
  },
  {
   "cell_type": "code",
   "execution_count": 13,
   "id": "71ba9c8a-eed8-4225-bd39-b3ccc67e79ae",
   "metadata": {},
   "outputs": [],
   "source": [
    "# Download embeddings from OpenAI\n",
    "from langchain_openai import OpenAIEmbeddings\n",
    "embeddings = OpenAIEmbeddings()"
   ]
  },
  {
   "cell_type": "code",
   "execution_count": 14,
   "id": "02415a46-47a5-4074-8c4a-182ab76a1453",
   "metadata": {},
   "outputs": [],
   "source": [
    "docsearch = FAISS.from_texts(texts, embeddings)"
   ]
  },
  {
   "cell_type": "code",
   "execution_count": 16,
   "id": "fe3f84cd-0cf7-43a8-88c3-e942660687d5",
   "metadata": {},
   "outputs": [
    {
     "data": {
      "text/plain": [
       "<langchain_community.vectorstores.faiss.FAISS at 0x262a1728390>"
      ]
     },
     "execution_count": 16,
     "metadata": {},
     "output_type": "execute_result"
    }
   ],
   "source": [
    "docsearch"
   ]
  },
  {
   "cell_type": "code",
   "execution_count": 19,
   "id": "fa1eeef0-37ad-4f8e-918e-a0ebd19aaa01",
   "metadata": {},
   "outputs": [],
   "source": [
    "from langchain.chains.question_answering import load_qa_chain\n",
    "from langchain_openai import OpenAI"
   ]
  },
  {
   "cell_type": "code",
   "execution_count": 20,
   "id": "9d00aafc-77c0-479c-b4a0-a02afb9cf17f",
   "metadata": {},
   "outputs": [],
   "source": [
    "chain = load_qa_chain(OpenAI(), chain_type=\"stuff\")"
   ]
  },
  {
   "cell_type": "code",
   "execution_count": 21,
   "id": "10e73a50-3400-48a5-b6e0-7d21ddf69f28",
   "metadata": {},
   "outputs": [
    {
     "name": "stderr",
     "output_type": "stream",
     "text": [
      "C:\\Users\\asifr\\AppData\\Roaming\\Python\\Python311\\site-packages\\langchain_core\\_api\\deprecation.py:119: LangChainDeprecationWarning: The method `Chain.run` was deprecated in langchain 0.1.0 and will be removed in 0.2.0. Use invoke instead.\n",
      "  warn_deprecated(\n"
     ]
    },
    {
     "data": {
      "text/plain": [
       "' This article is about the amendments and changes made to the liquor excise tax rates for small wine growers and craft distillers in the state of New Mexico. It also discusses the dormant Commerce Clause and how it relates to state regulation of interstate commerce.'"
      ]
     },
     "execution_count": 21,
     "metadata": {},
     "output_type": "execute_result"
    }
   ],
   "source": [
    "query = \"what is this article about?\"\n",
    "docs = docsearch.similarity_search(query)\n",
    "chain.run(input_documents=docs, question=query)"
   ]
  },
  {
   "cell_type": "code",
   "execution_count": 22,
   "id": "02cb80cd-543e-46bf-b183-e357786ebcea",
   "metadata": {},
   "outputs": [
    {
     "data": {
      "text/plain": [
       "' According to Article 17, \"alcoholic beverages\" means distilled or rectified spirits, potable alcohol, brandy, whiskey, rum, gin, aromatic bitters or any similar beverage, including blended or fermented beverages, dilutions or mixtures of one or more of the foregoing containing more than one-half of one percent alcohol by volume, but does not include medicinal bitters.'"
      ]
     },
     "execution_count": 22,
     "metadata": {},
     "output_type": "execute_result"
    }
   ],
   "source": [
    "query = \"what does alcoholic beverage mean according to article 17?\"\n",
    "docs = docsearch.similarity_search(query)\n",
    "chain.run(input_documents=docs, question=query)"
   ]
  },
  {
   "cell_type": "code",
   "execution_count": 26,
   "id": "55b72aa2-d37b-4fe1-98a1-74cfc761f11d",
   "metadata": {},
   "outputs": [
    {
     "data": {
      "text/plain": [
       "' The 1997, 2000, 1996, 1995, 1994, 1993, 1991, 1982, 1983, 1984, and 2008 amendments.'"
      ]
     },
     "execution_count": 26,
     "metadata": {},
     "output_type": "execute_result"
    }
   ],
   "source": [
    "query = \"what are the ammendments in article 17?\"\n",
    "docs = docsearch.similarity_search(query)\n",
    "chain.run(input_documents=docs, question=query)"
   ]
  },
  {
   "cell_type": "code",
   "execution_count": 27,
   "id": "23d92ddf-f1d8-4986-a316-65c4c5144334",
   "metadata": {},
   "outputs": [
    {
     "data": {
      "text/plain": [
       "' The 2000 amendment, effective July 1, 2000, substituted \"five hundred sixty thousand liters\" for \"three hundred seventy-five thousand liters\" in Subsection E. The 2008 amendment, effective July 1, 2008, increased the minimum production of wine from five hundred sixty thousand liters to nine hundred fifty thousand liters and added Subsections B and C. Both amendments deal with the production of wine and the amount of wine that can be produced. However, the 2008 amendment also added new subsections, while the 2000 amendment only substituted one amount for another.'"
      ]
     },
     "execution_count": 27,
     "metadata": {},
     "output_type": "execute_result"
    }
   ],
   "source": [
    "query = \"Comapre and contrast amendments 2000 and 2008?\"\n",
    "docs = docsearch.similarity_search(query)\n",
    "chain.run(input_documents=docs, question=query)"
   ]
  },
  {
   "cell_type": "code",
   "execution_count": null,
   "id": "055fab08-48d2-432b-b206-537b73b8af46",
   "metadata": {},
   "outputs": [],
   "source": []
  }
 ],
 "metadata": {
  "kernelspec": {
   "display_name": "Python 3 (ipykernel)",
   "language": "python",
   "name": "python3"
  },
  "language_info": {
   "codemirror_mode": {
    "name": "ipython",
    "version": 3
   },
   "file_extension": ".py",
   "mimetype": "text/x-python",
   "name": "python",
   "nbconvert_exporter": "python",
   "pygments_lexer": "ipython3",
   "version": "3.11.7"
  }
 },
 "nbformat": 4,
 "nbformat_minor": 5
}
