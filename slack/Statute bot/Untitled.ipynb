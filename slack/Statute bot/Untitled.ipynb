{
 "cells": [
  {
   "cell_type": "code",
   "execution_count": 1,
   "id": "65d14199-0448-4bb9-87a9-9a1e8c500b87",
   "metadata": {},
   "outputs": [],
   "source": [
    "# !pip install langchain\n",
    "# !pip install openai\n",
    "# !pip install PyPDF2\n",
    "# !pip install faiss-cpu\n",
    "# !pip install tiktoken\n"
   ]
  },
  {
   "cell_type": "code",
   "execution_count": 2,
   "id": "3e024be2-0893-4a29-b485-9c4bbda2b446",
   "metadata": {},
   "outputs": [
    {
     "data": {
      "text/plain": [
       "True"
      ]
     },
     "execution_count": 2,
     "metadata": {},
     "output_type": "execute_result"
    }
   ],
   "source": [
    "# Load environment variables from .env file\n",
    "from dotenv import find_dotenv, load_dotenv\n",
    "load_dotenv(find_dotenv())"
   ]
  },
  {
   "cell_type": "code",
   "execution_count": 3,
   "id": "f2202ee5-1b69-4517-9ed8-72f8f84c459b",
   "metadata": {},
   "outputs": [],
   "source": [
    "from PyPDF2 import PdfReader\n",
    "from langchain.embeddings.openai import OpenAIEmbeddings\n",
    "from langchain.text_splitter import CharacterTextSplitter\n",
    "from langchain.vectorstores import ElasticVectorSearch, Pinecone, Weaviate, FAISS"
   ]
  },
  {
   "cell_type": "code",
   "execution_count": 4,
   "id": "84950ac2-b5c7-44d6-9290-b5eab8776bea",
   "metadata": {},
   "outputs": [],
   "source": [
    "# location of the pdf file/files. \n",
    "reader = PdfReader('Article 17.pdf')"
   ]
  },
  {
   "cell_type": "code",
   "execution_count": 5,
   "id": "462ca3bd-e300-4c1f-b2b8-3dd8c398c961",
   "metadata": {},
   "outputs": [],
   "source": [
    "# read data from the file and put them into a variable called raw_text\n",
    "raw_text = ''\n",
    "for i, page in enumerate(reader.pages):\n",
    "    text = page.extract_text()\n",
    "    if text:\n",
    "        raw_text += text"
   ]
  },
  {
   "cell_type": "code",
   "execution_count": 6,
   "id": "28c75fd2-9cc4-44fb-82c1-1dfc6ac711f0",
   "metadata": {},
   "outputs": [
    {
     "data": {
      "text/plain": [
       "' \\n ANNOTATIONS \\nCross references.  — For duty of successor in business, see 7-1-61 NMSA 1978 et \\nseq'"
      ]
     },
     "execution_count": 6,
     "metadata": {},
     "output_type": "execute_result"
    }
   ],
   "source": [
    "raw_text[:100]"
   ]
  },
  {
   "cell_type": "code",
   "execution_count": 7,
   "id": "b4a320e5-f2ee-476f-b4fe-4bae483b8cbe",
   "metadata": {},
   "outputs": [],
   "source": [
    "# We need to split the text that we read into smaller chunks so that during information retreival we don't hit the token size limits. \n",
    "\n",
    "text_splitter = CharacterTextSplitter(        \n",
    "    separator = \"\\n\",\n",
    "    chunk_size = 1000,\n",
    "    chunk_overlap  = 200,\n",
    "    length_function = len,\n",
    ")\n",
    "texts = text_splitter.split_text(raw_text)"
   ]
  },
  {
   "cell_type": "code",
   "execution_count": 8,
   "id": "445bdf80-173d-446a-8fbd-8e59e3483022",
   "metadata": {},
   "outputs": [
    {
     "data": {
      "text/plain": [
       "28"
      ]
     },
     "execution_count": 8,
     "metadata": {},
     "output_type": "execute_result"
    }
   ],
   "source": [
    "len(texts)"
   ]
  },
  {
   "cell_type": "code",
   "execution_count": 9,
   "id": "bcd38c26-6463-41e2-8292-9ce2229312a2",
   "metadata": {},
   "outputs": [
    {
     "data": {
      "text/plain": [
       "'ANNOTATIONS \\nCross references.  — For duty of successor in business, see 7-1-61 NMSA 1978 et \\nseq.  \\nAm. Jur. 2d, A.L.R. and C.J.S. references.  — 45 Am. Jur. 2d Intoxicating Liquors §§ \\n203 to 219.  \\n48 C.J.S. Intoxicating Liquors §§ 199 to 212.  \\n7-17-2. Definitions. \\nAs used in the Liquor Excise Tax Act:  A. \"alcoholic beverages\" means distilled or  rectified spirits, potable alcohol, brandy, \\nwhiskey, rum, gin, aromatic bitters or an y similar beverage, including blended or \\nfermented beverages, dilutions or mixtures of  one or more of the foregoing containing \\nmore than one-half of one percent alcohol by volume, but \"alcoholic beverages\" does not include medicinal bitters; \\nB. \"beer\" means an alcoholic beverage obta ined by the fermentation of any infusion \\nor decoction of barley, malt and hops or other cereals in water and includes porter, \\nbeer, ale and stout; \\nC. \"cider\" means an alcoholic beverage made from the normal alcoholic'"
      ]
     },
     "execution_count": 9,
     "metadata": {},
     "output_type": "execute_result"
    }
   ],
   "source": [
    "texts[0]"
   ]
  },
  {
   "cell_type": "code",
   "execution_count": 10,
   "id": "f8a17bc1-7c73-4fe8-af21-91d13dd0f341",
   "metadata": {},
   "outputs": [
    {
     "data": {
      "text/plain": [
       "'or decoction of barley, malt and hops or other cereals in water and includes porter, \\nbeer, ale and stout; \\nC. \"cider\" means an alcoholic beverage made from the normal alcoholic \\nfermentation of the juice of sound, ripe apples or pears that contains not less than one-half of one percent of alcohol by volume and not more than eight and one-half percent of alcohol by volume; \\nD. \"department\" means the taxation and revenue department, the secretary of \\ntaxation and revenue or any employee of the department exercising authority lawfully delegated to that employee by the secretary; \\nE. \"fortified wine\" means wine containin g more than fourteen percent alcohol by \\nvolume when bottled or packaged by the manufacturer, but \"fortified wine\" does not include: \\n(1) wine that is sealed or capped by cork closure and aged two years or more; \\n(2) wine that contains more than four teen percent alcohol by volume solely as'"
      ]
     },
     "execution_count": 10,
     "metadata": {},
     "output_type": "execute_result"
    }
   ],
   "source": [
    "texts[1]"
   ]
  },
  {
   "cell_type": "code",
   "execution_count": 11,
   "id": "71ba9c8a-eed8-4225-bd39-b3ccc67e79ae",
   "metadata": {},
   "outputs": [],
   "source": [
    "# Download embeddings from OpenAI\n",
    "from langchain_openai import OpenAIEmbeddings\n",
    "embeddings = OpenAIEmbeddings()"
   ]
  },
  {
   "cell_type": "code",
   "execution_count": 12,
   "id": "02415a46-47a5-4074-8c4a-182ab76a1453",
   "metadata": {},
   "outputs": [],
   "source": [
    "docsearch = FAISS.from_texts(texts, embeddings)"
   ]
  },
  {
   "cell_type": "code",
   "execution_count": 13,
   "id": "fe3f84cd-0cf7-43a8-88c3-e942660687d5",
   "metadata": {},
   "outputs": [
    {
     "data": {
      "text/plain": [
       "<langchain_community.vectorstores.faiss.FAISS at 0x24c2b599d10>"
      ]
     },
     "execution_count": 13,
     "metadata": {},
     "output_type": "execute_result"
    }
   ],
   "source": [
    "docsearch"
   ]
  },
  {
   "cell_type": "code",
   "execution_count": 14,
   "id": "fa1eeef0-37ad-4f8e-918e-a0ebd19aaa01",
   "metadata": {},
   "outputs": [],
   "source": [
    "from langchain.chains.question_answering import load_qa_chain\n",
    "from langchain_openai import OpenAI"
   ]
  },
  {
   "cell_type": "code",
   "execution_count": 15,
   "id": "9d00aafc-77c0-479c-b4a0-a02afb9cf17f",
   "metadata": {},
   "outputs": [],
   "source": [
    "chain = load_qa_chain(OpenAI(), chain_type=\"stuff\")"
   ]
  },
  {
   "cell_type": "code",
   "execution_count": 16,
   "id": "10e73a50-3400-48a5-b6e0-7d21ddf69f28",
   "metadata": {},
   "outputs": [
    {
     "name": "stderr",
     "output_type": "stream",
     "text": [
      "C:\\Users\\asifr\\AppData\\Local\\anaconda3\\Lib\\site-packages\\langchain_core\\_api\\deprecation.py:119: LangChainDeprecationWarning: The method `Chain.run` was deprecated in langchain 0.1.0 and will be removed in 0.2.0. Use invoke instead.\n",
      "  warn_deprecated(\n"
     ]
    },
    {
     "data": {
      "text/plain": [
       "' This article discusses the potential implications and violations of the dormant Commerce Clause in regards to alcohol tax rates and regulations in the state of New Mexico. It also mentions various amendments that have been made to these regulations over the years.'"
      ]
     },
     "execution_count": 16,
     "metadata": {},
     "output_type": "execute_result"
    }
   ],
   "source": [
    "query = \"what is this article about?\"\n",
    "docs = docsearch.similarity_search(query)\n",
    "chain.run(input_documents=docs, question=query)"
   ]
  },
  {
   "cell_type": "code",
   "execution_count": 17,
   "id": "02cb80cd-543e-46bf-b183-e357786ebcea",
   "metadata": {},
   "outputs": [
    {
     "data": {
      "text/plain": [
       "' Alcoholic beverage means distilled or rectified spirits, potable alcohol, brandy, whiskey, rum, gin, aromatic bitters or any similar beverage, including blended or fermented beverages, dilutions or mixtures of one or more of the foregoing containing more than one-half of one percent alcohol by volume, but does not include medicinal bitters.'"
      ]
     },
     "execution_count": 17,
     "metadata": {},
     "output_type": "execute_result"
    }
   ],
   "source": [
    "query = \"what does alcoholic beverage mean according to article 17?\"\n",
    "docs = docsearch.similarity_search(query)\n",
    "chain.run(input_documents=docs, question=query)"
   ]
  },
  {
   "cell_type": "code",
   "execution_count": 18,
   "id": "55b72aa2-d37b-4fe1-98a1-74cfc761f11d",
   "metadata": {},
   "outputs": [
    {
     "data": {
      "text/plain": [
       "' The 2000, 1997, 1996, 1995, 1994, 1993, 1991, 1983, and 1984 amendments.'"
      ]
     },
     "execution_count": 18,
     "metadata": {},
     "output_type": "execute_result"
    }
   ],
   "source": [
    "query = \"what are the ammendments in article 17?\"\n",
    "docs = docsearch.similarity_search(query)\n",
    "chain.run(input_documents=docs, question=query)"
   ]
  },
  {
   "cell_type": "code",
   "execution_count": 19,
   "id": "23d92ddf-f1d8-4986-a316-65c4c5144334",
   "metadata": {},
   "outputs": [
    {
     "data": {
      "text/plain": [
       "' The 2000 amendment increased the minimum production of wine from five hundred sixty thousand liters to nine hundred fifty thousand liters and changed the excise tax on beer produced by a microbrewer. The 2008 amendment also increased the minimum production of wine, but to a smaller amount of barrels, and added additional tax rates for different production levels of wine. Both amendments also made changes to the language and structure of the section.'"
      ]
     },
     "execution_count": 19,
     "metadata": {},
     "output_type": "execute_result"
    }
   ],
   "source": [
    "query = \"Comapre and contrast amendments 2000 and 2008?\"\n",
    "docs = docsearch.similarity_search(query)\n",
    "chain.run(input_documents=docs, question=query)"
   ]
  },
  {
   "cell_type": "code",
   "execution_count": null,
   "id": "fb8191be-f98d-4608-88ad-b9f204b32187",
   "metadata": {},
   "outputs": [],
   "source": []
  },
  {
   "cell_type": "code",
   "execution_count": 1,
   "id": "2c371b22-b315-497c-86d8-7c75853ef1a1",
   "metadata": {},
   "outputs": [
    {
     "name": "stderr",
     "output_type": "stream",
     "text": [
      "C:\\Users\\asifr\\AppData\\Local\\anaconda3\\Lib\\site-packages\\langchain_core\\_api\\deprecation.py:119: LangChainDeprecationWarning: The class `OpenAIEmbeddings` was deprecated in LangChain 0.0.9 and will be removed in 0.3.0. An updated version of the class exists in the langchain-openai package and should be used instead. To use it run `pip install -U langchain-openai` and import as `from langchain_openai import OpenAIEmbeddings`.\n",
      "  warn_deprecated(\n",
      "C:\\Users\\asifr\\AppData\\Local\\anaconda3\\Lib\\site-packages\\langchain_core\\_api\\deprecation.py:119: LangChainDeprecationWarning: The class `OpenAI` was deprecated in LangChain 0.0.10 and will be removed in 0.3.0. An updated version of the class exists in the langchain-openai package and should be used instead. To use it run `pip install -U langchain-openai` and import as `from langchain_openai import OpenAI`.\n",
      "  warn_deprecated(\n",
      "C:\\Users\\asifr\\AppData\\Local\\anaconda3\\Lib\\site-packages\\langchain_core\\_api\\deprecation.py:119: LangChainDeprecationWarning: The method `Chain.run` was deprecated in langchain 0.1.0 and will be removed in 0.2.0. Use invoke instead.\n",
      "  warn_deprecated(\n"
     ]
    },
    {
     "name": "stdout",
     "output_type": "stream",
     "text": [
      "Question: What is this article about?\n",
      "Answer:  This article discusses the dormant Commerce Clause and how it applies to proposed legislation that seeks to raise the basic alcohol tax rates imposed by NMSA 1978, § 7-17-5. It also mentions the different amendments made to this section over the years and how they relate to small winers, winegrowers, and craft distillers both in-state and out-of-state.\n",
      "\n",
      "Question: What does alcoholic beverage mean according to article 17?\n",
      "Answer:  According to article 17, \"alcoholic beverages\" means distilled or rectified spirits, potable alcohol, brandy, whiskey, rum, gin, aromatic bitters or any similar beverage, including blended or fermented beverages, dilutions or mixtures of one or more of the foregoing containing more than one-half of one percent alcohol by volume, but does not include medicinal bitters.\n",
      "\n",
      "Question: What are the amendments in article 17?\n",
      "Answer:  The amendments in article 17 include changes to the imposition and rate of the liquor excise tax, deductions from gross receipts for certain sales, and the definition of a small domestic producer.\n",
      "\n",
      "Question: Compare and contrast amendments 2000 and 2008?\n",
      "Answer: \n",
      "Amendment 2000 and 2008 both made changes to the excise tax rates for alcohol production in New Mexico. However, they made different changes to different types of alcohol.\n",
      "\n",
      "Amendment 2000, effective July 1, 2000, substituted \"five hundred sixty thousand liters\" for \"three hundred seventy-five thousand liters\" in Subsection E. This change increased the minimum production of wine required for a producer to be subject to the excise tax.\n",
      "\n",
      "On the other hand, Amendment 2008, effective July 1, 2008, increased the minimum production of wine even further, from five hundred sixty thousand liters to nine hundred fifty thousand liters. This change also added Subsections B and C, which specified different tax rates for different levels of wine production.\n",
      "\n",
      "Additionally, Amendment 2000 changed the excise tax on beer produced by a microbrewer from twenty-five cents per gallon to eight cents per gallon. However, Amendment 2008 did not make any changes to the tax rate for beer.\n",
      "\n"
     ]
    }
   ],
   "source": [
    "#!/usr/bin/env python\n",
    "# coding: utf-8\n",
    "\n",
    "# Required Libraries\n",
    "import os\n",
    "from dotenv import find_dotenv, load_dotenv\n",
    "from PyPDF2 import PdfReader\n",
    "from langchain.text_splitter import CharacterTextSplitter\n",
    "from langchain.embeddings.openai import OpenAIEmbeddings\n",
    "from langchain.vectorstores import FAISS\n",
    "from langchain.chains.question_answering import load_qa_chain\n",
    "from langchain.llms import OpenAI\n",
    "\n",
    "# Load environment variables for API keys\n",
    "load_dotenv(find_dotenv())\n",
    "\n",
    "# Single Function to Load, Split, Embed, and Query a PDF\n",
    "def analyze_pdf(pdf_path, questions):\n",
    "    \"\"\"\n",
    "    Analyze a PDF file and return answers to a list of questions.\n",
    "    \n",
    "    :param pdf_path: Path to the PDF file\n",
    "    :param questions: List of questions to ask about the PDF\n",
    "    :return: Dictionary of question-answer pairs\n",
    "    \"\"\"\n",
    "    # Read the PDF file\n",
    "    reader = PdfReader(pdf_path)\n",
    "    raw_text = ''\n",
    "    for page in reader.pages:\n",
    "        text = page.extract_text()\n",
    "        if text:\n",
    "            raw_text += text\n",
    "\n",
    "    # Split the text into chunks\n",
    "    text_splitter = CharacterTextSplitter(\n",
    "        separator=\"\\n\",\n",
    "        chunk_size=1000,\n",
    "        chunk_overlap=200,\n",
    "        length_function=len,\n",
    "    )\n",
    "    texts = text_splitter.split_text(raw_text)\n",
    "\n",
    "    # Create embeddings and a vector store\n",
    "    embeddings = OpenAIEmbeddings()\n",
    "    docsearch = FAISS.from_texts(texts, embeddings)\n",
    "\n",
    "    # Load the QA chain with OpenAI LLM\n",
    "    chain = load_qa_chain(OpenAI(), chain_type=\"stuff\")\n",
    "\n",
    "    # Create a dictionary to store answers\n",
    "    answers = {}\n",
    "\n",
    "    # For each question, perform a similarity search and run the QA chain\n",
    "    for question in questions:\n",
    "        docs = docsearch.similarity_search(question)\n",
    "        answer = chain.run(input_documents=docs, question=question)\n",
    "        answers[question] = answer\n",
    "\n",
    "    return answers\n",
    "\n",
    "# Example usage\n",
    "if __name__ == \"__main__\":\n",
    "    pdf_path = \"Article 17.pdf\"\n",
    "    questions = [\n",
    "        \"What is this article about?\",\n",
    "        \"What does alcoholic beverage mean according to article 17?\",\n",
    "        \"What are the amendments in article 17?\",\n",
    "        \"Compare and contrast amendments 2000 and 2008?\",\n",
    "    ]\n",
    "    \n",
    "    results = analyze_pdf(pdf_path, questions)\n",
    "    \n",
    "    # Print out the answers\n",
    "    for question, answer in results.items():\n",
    "        print(f\"Question: {question}\\nAnswer: {answer}\\n\")"
   ]
  },
  {
   "cell_type": "code",
   "execution_count": null,
   "id": "46a81caa-d591-4598-929e-8ee82e082583",
   "metadata": {},
   "outputs": [],
   "source": []
  }
 ],
 "metadata": {
  "kernelspec": {
   "display_name": "Python 3 (ipykernel)",
   "language": "python",
   "name": "python3"
  },
  "language_info": {
   "codemirror_mode": {
    "name": "ipython",
    "version": 3
   },
   "file_extension": ".py",
   "mimetype": "text/x-python",
   "name": "python",
   "nbconvert_exporter": "python",
   "pygments_lexer": "ipython3",
   "version": "3.11.7"
  }
 },
 "nbformat": 4,
 "nbformat_minor": 5
}
