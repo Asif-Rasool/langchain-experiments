{
 "cells": [
  {
   "cell_type": "code",
   "execution_count": 3,
   "id": "25de6c62-2abb-4ed8-a4a8-2f78ca30545a",
   "metadata": {},
   "outputs": [],
   "source": [
    "import sys\n",
    "import os\n",
    "from slack_sdk import WebClient\n",
    "from slack_sdk.errors import SlackApiError\n",
    "from slack_bolt.adapter.flask import SlackRequestHandler\n",
    "from slack_bolt import App\n",
    "from dotenv import find_dotenv, load_dotenv\n",
    "from flask import Flask, request\n",
    "import logging\n"
   ]
  },
  {
   "cell_type": "code",
   "execution_count": 8,
   "id": "85f5a22f-abe8-46ff-938e-2aa2690e9e64",
   "metadata": {},
   "outputs": [],
   "source": [
    "import os\n",
    "from slack_sdk import WebClient\n",
    "from slack_sdk.errors import SlackApiError\n",
    "from slack_sdk.signature import SignatureVerifier\n",
    "from slack_bolt.adapter.flask import SlackRequestHandler\n",
    "from slack_bolt import App\n",
    "from dotenv import find_dotenv, load_dotenv\n",
    "from flask import Flask, request, abort\n",
    "from functions import draft_email\n",
    "import logging\n",
    "from functools import wraps\n",
    "import time\n",
    "import sys"
   ]
  },
  {
   "cell_type": "code",
   "execution_count": 9,
   "id": "6309b65d-05ea-426a-98b8-45cea32fe507",
   "metadata": {},
   "outputs": [],
   "source": [
    "# Configure the logging level and format\n",
    "logging.basicConfig(\n",
    "    level=logging.INFO,\n",
    "    format=\"%(asctime)s [%(levelname)s] %(message)s\",\n",
    "    stream=sys.stdout,\n",
    ")"
   ]
  },
  {
   "cell_type": "code",
   "execution_count": 10,
   "id": "f308ff91-b161-4621-9d23-cedf3828e4b9",
   "metadata": {},
   "outputs": [
    {
     "data": {
      "text/plain": [
       "True"
      ]
     },
     "execution_count": 10,
     "metadata": {},
     "output_type": "execute_result"
    }
   ],
   "source": [
    "# Load environment variables from .env file\n",
    "load_dotenv(find_dotenv())"
   ]
  },
  {
   "cell_type": "code",
   "execution_count": 11,
   "id": "430dc19b-51ec-4f54-9703-506ad460c399",
   "metadata": {},
   "outputs": [],
   "source": [
    "# Set Slack API credentials\n",
    "SLACK_BOT_TOKEN = os.environ[\"SLACK_BOT_TOKEN\"]\n",
    "SLACK_SIGNING_SECRET = os.environ[\"SLACK_SIGNING_SECRET\"]\n",
    "SLACK_BOT_USER_ID = os.environ[\"SLACK_BOT_USER_ID\"]"
   ]
  },
  {
   "cell_type": "code",
   "execution_count": 12,
   "id": "3dfbc499-fa51-438d-8d72-799cf2984908",
   "metadata": {},
   "outputs": [],
   "source": [
    "# Initialize the Slack app\n",
    "app = App(token=SLACK_BOT_TOKEN)\n",
    "signature_verifier = SignatureVerifier(SLACK_SIGNING_SECRET)"
   ]
  },
  {
   "cell_type": "code",
   "execution_count": 13,
   "id": "894ff6d1-846b-4352-8ae1-69fa4155ca95",
   "metadata": {},
   "outputs": [],
   "source": [
    "# Initialize the Flask app\n",
    "# Flask is a web application framework written in Python\n",
    "flask_app = Flask(__name__)\n",
    "handler = SlackRequestHandler(app)\n",
    "\n",
    "def require_slack_verification(f):\n",
    "    @wraps(f)\n",
    "    def decorated_function(*args, **kwargs):\n",
    "        if not verify_slack_request():\n",
    "            abort(403)\n",
    "        return f(*args, **kwargs)\n",
    "\n",
    "    return decorated_function\n",
    "\n",
    "\n",
    "def verify_slack_request():\n",
    "    # Get the request headers\n",
    "    timestamp = request.headers.get(\"X-Slack-Request-Timestamp\", \"\")\n",
    "    signature = request.headers.get(\"X-Slack-Signature\", \"\")\n",
    "\n",
    "    # Check if the timestamp is within five minutes of the current time\n",
    "    current_timestamp = int(time.time())\n",
    "    if abs(current_timestamp - int(timestamp)) > 60 * 5:\n",
    "        return False\n",
    "\n",
    "    # Verify the request signature\n",
    "    return signature_verifier.is_valid(\n",
    "        body=request.get_data().decode(\"utf-8\"),\n",
    "        timestamp=timestamp,\n",
    "        signature=signature,\n",
    "    )\n"
   ]
  },
  {
   "cell_type": "code",
   "execution_count": 14,
   "id": "6f6ee9e1-aaa2-405f-ae30-df8809b10c39",
   "metadata": {},
   "outputs": [],
   "source": [
    "def get_bot_user_id():\n",
    "    \"\"\"\n",
    "    Get the bot user ID using the Slack API.\n",
    "    Returns:\n",
    "        str: The bot user ID.\n",
    "    \"\"\"\n",
    "    try:\n",
    "        # Initialize the Slack client with your bot token\n",
    "        slack_client = WebClient(token=os.environ[\"SLACK_BOT_TOKEN\"])\n",
    "        response = slack_client.auth_test()\n",
    "        return response[\"user_id\"]\n",
    "    except SlackApiError as e:\n",
    "        print(f\"Error: {e}\")"
   ]
  },
  {
   "cell_type": "code",
   "execution_count": 15,
   "id": "df6915aa",
   "metadata": {},
   "outputs": [
    {
     "name": "stderr",
     "output_type": "stream",
     "text": [
      "C:\\Users\\asifr\\AppData\\Local\\anaconda3\\Lib\\site-packages\\langchain_core\\_api\\deprecation.py:119: LangChainDeprecationWarning: The class `ChatOpenAI` was deprecated in LangChain 0.0.10 and will be removed in 0.2.0. An updated version of the class exists in the langchain-openai package and should be used instead. To use it run `pip install -U langchain-openai` and import as `from langchain_openai import ChatOpenAI`.\n",
      "  warn_deprecated(\n",
      "C:\\Users\\asifr\\AppData\\Local\\anaconda3\\Lib\\site-packages\\langchain_core\\_api\\deprecation.py:119: LangChainDeprecationWarning: The class `LLMChain` was deprecated in LangChain 0.1.17 and will be removed in 0.3.0. Use RunnableSequence, e.g., `prompt | llm` instead.\n",
      "  warn_deprecated(\n"
     ]
    }
   ],
   "source": [
    "import os\n",
    "from slack_bolt import App\n",
    "from slack_bolt.adapter.socket_mode import SocketModeHandler\n",
    "from langchain.chains import LLMChain\n",
    "from langchain.chat_models import ChatOpenAI\n",
    "from langchain.memory import ConversationBufferMemory\n",
    "from langchain.prompts.chat import ChatPromptTemplate, SystemMessagePromptTemplate, HumanMessagePromptTemplate\n",
    "\n",
    "# Initialize the OpenAI-based language model with conversational capabilities\n",
    "chat = ChatOpenAI(model_name=\"gpt-3.5-turbo\", temperature=0.7)\n",
    "\n",
    "# Create a memory buffer for maintaining context in conversations\n",
    "memory = ConversationBufferMemory()\n",
    "\n",
    "# System prompt template to define AI assistant's behavior\n",
    "system_template = \"\"\"\n",
    "You are Alphie, a conversational AI assistant at New Mexico Tax & Rev. \n",
    "Your role is to engage in meaningful conversations and help with a variety of tasks, including answering general questions, solving coding issues, and more.\n",
    "Provide thoughtful and friendly responses to all user questions. \n",
    "\n",
    "\n",
    "One of your primary tasks is to analyze the Current New Mexico Statutes Annotated 1978. Make sure to do a detailed analysis. \n",
    "\n",
    "\"\"\"\n",
    "\n",
    "system_message_prompt = SystemMessagePromptTemplate.from_template(system_template)\n",
    "\n",
    "# Human message prompt to integrate user input into the conversation\n",
    "human_template = \"User says: {user_input}.\"\n",
    "human_message_prompt = HumanMessagePromptTemplate.from_template(human_template)\n",
    "\n",
    "# Create a conversational prompt with system and human messages\n",
    "chat_prompt = ChatPromptTemplate.from_messages([system_message_prompt, human_message_prompt])\n",
    "\n",
    "# Create a conversational chain with memory for maintaining context\n",
    "chain = LLMChain(llm=chat, prompt=chat_prompt, memory=memory)\n",
    "\n",
    "# Define the event listener for Slack messages\n",
    "@app.event(\"message\")\n",
    "def handle_message_events(event, say):\n",
    "    user_text = event.get(\"text\", \"\")\n",
    "\n",
    "    # If the user text is a greeting\n",
    "    if user_text.lower() in [\"hi\", \"hello\", \"hey\"]:\n",
    "        say(\"Hello! I'm Alphie, your friendly AI assistant at New Mexico Tax & Rev. How can I help you today?\")\n",
    "        return\n",
    "\n",
    "    # Generate the response with the conversational chain\n",
    "    response = chain.run(user_input=user_text)\n",
    "\n",
    "    # Respond with the generated response\n",
    "    say(response)"
   ]
  },
  {
   "cell_type": "code",
   "execution_count": 16,
   "id": "6cf9e814-8dc8-48cf-82b2-ae880a310fb4",
   "metadata": {},
   "outputs": [],
   "source": [
    "@flask_app.route(\"/slack/events\", methods=[\"POST\"])\n",
    "@require_slack_verification\n",
    "def slack_events():\n",
    "    \"\"\"\n",
    "    Route for handling Slack events.\n",
    "    This function passes the incoming HTTP request to the SlackRequestHandler for processing.\n",
    "\n",
    "    Returns:\n",
    "        Response: The result of handling the request.\n",
    "    \"\"\"\n",
    "\n",
    "    return handler.handle(request)\n"
   ]
  },
  {
   "cell_type": "code",
   "execution_count": 17,
   "id": "0eac3e4b-05aa-4c14-866d-0882678bc5a8",
   "metadata": {},
   "outputs": [
    {
     "name": "stdout",
     "output_type": "stream",
     "text": [
      "2024-05-02 15:49:50,364 [INFO] Flask app started\n",
      " * Serving Flask app '__main__'\n",
      " * Debug mode: off\n",
      "2024-05-02 15:49:50,375 [INFO] \u001b[31m\u001b[1mWARNING: This is a development server. Do not use it in a production deployment. Use a production WSGI server instead.\u001b[0m\n",
      " * Running on all addresses (0.0.0.0)\n",
      " * Running on http://127.0.0.1:8000\n",
      " * Running on http://10.63.10.3:8000\n",
      "2024-05-02 15:49:50,378 [INFO] \u001b[33mPress CTRL+C to quit\u001b[0m\n"
     ]
    }
   ],
   "source": [
    "# Run the Flask app\n",
    "if __name__ == \"__main__\":\n",
    "    logging.info(\"Flask app started\")\n",
    "    flask_app.run(host=\"0.0.0.0\", port=8000)"
   ]
  },
  {
   "cell_type": "code",
   "execution_count": null,
   "id": "c27a3ce9",
   "metadata": {},
   "outputs": [],
   "source": []
  }
 ],
 "metadata": {
  "kernelspec": {
   "display_name": "Python 3 (ipykernel)",
   "language": "python",
   "name": "python3"
  },
  "language_info": {
   "codemirror_mode": {
    "name": "ipython",
    "version": 3
   },
   "file_extension": ".py",
   "mimetype": "text/x-python",
   "name": "python",
   "nbconvert_exporter": "python",
   "pygments_lexer": "ipython3",
   "version": "3.11.7"
  }
 },
 "nbformat": 4,
 "nbformat_minor": 5
}
