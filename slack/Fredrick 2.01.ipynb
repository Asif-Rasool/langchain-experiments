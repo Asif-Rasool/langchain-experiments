{
 "cells": [
  {
   "cell_type": "markdown",
   "id": "8ed26f78-cf86-49b3-980c-e2961113cea4",
   "metadata": {},
   "source": [
    "# Installing & loading packages"
   ]
  },
  {
   "cell_type": "code",
   "execution_count": 1,
   "id": "668f2464-b687-4f3f-99fd-e5a4bedc6258",
   "metadata": {},
   "outputs": [],
   "source": [
    "from fredapi import Fred\n",
    "from langchain.chat_models import ChatOpenAI\n",
    "from langchain.memory import ConversationBufferMemory\n",
    "from langchain.prompts.chat import ChatPromptTemplate, SystemMessagePromptTemplate, HumanMessagePromptTemplate\n",
    "from langchain.chains import LLMChain\n",
    "import pandas as pd\n",
    "import re\n",
    "from datetime import datetime\n",
    "from slack_sdk.errors import SlackApiError\n",
    "from slack_sdk import WebClient\n",
    "from dotenv import find_dotenv, load_dotenv\n",
    "import os"
   ]
  },
  {
   "cell_type": "markdown",
   "id": "059fe330-862f-4cf4-af3b-21f7b764a948",
   "metadata": {},
   "source": [
    "# Load environment variables"
   ]
  },
  {
   "cell_type": "code",
   "execution_count": 2,
   "id": "d33d3d34-c66c-4dfd-b82c-960560593bc2",
   "metadata": {},
   "outputs": [
    {
     "data": {
      "text/plain": [
       "True"
      ]
     },
     "execution_count": 2,
     "metadata": {},
     "output_type": "execute_result"
    }
   ],
   "source": [
    "load_dotenv(find_dotenv())"
   ]
  },
  {
   "cell_type": "markdown",
   "id": "1651bbeb-2859-4354-bba1-5f22d838acc5",
   "metadata": {},
   "source": [
    "# Set Slack API credentials and FRED API key\n"
   ]
  },
  {
   "cell_type": "code",
   "execution_count": 3,
   "id": "b8e6bb89-b95d-417c-9b1b-33ed6ca033cc",
   "metadata": {},
   "outputs": [],
   "source": [
    "SLACK_BOT_TOKEN = os.environ.get(\"SLACK_BOT_TOKEN_FRED\")  # Using get to avoid KeyError\n",
    "SLACK_SIGNING_SECRET = os.environ.get(\"SLACK_SIGNING_SECRET_FRED\")\n",
    "FRED_API_KEY = os.environ.get(\"FRED_API_KEY\")\n",
    "SLACK_BOT_USER_ID = os.environ.get(\"SLACK_BOT_USER_ID_FRED\")"
   ]
  },
  {
   "cell_type": "markdown",
   "id": "debf9867-37f1-470d-a50f-7e32c3806bd8",
   "metadata": {},
   "source": [
    "# Check if environment variables are loaded correctly"
   ]
  },
  {
   "cell_type": "code",
   "execution_count": 4,
   "id": "d71c1f5f-608f-4d52-a0f5-433b2304a7cb",
   "metadata": {},
   "outputs": [],
   "source": [
    "if not all([SLACK_BOT_TOKEN, SLACK_SIGNING_SECRET, FRED_API_KEY, SLACK_BOT_USER_ID]):\n",
    "    raise ValueError(\"Missing environment variables. Please check your .env file.\")\n"
   ]
  },
  {
   "cell_type": "markdown",
   "id": "25ebdbd7-634f-4986-970e-fa9ecca508e2",
   "metadata": {},
   "source": [
    "# Initialize the Slack app and Flask app"
   ]
  },
  {
   "cell_type": "code",
   "execution_count": 5,
   "id": "266d3d51-3b6c-4057-9159-ff62b3b6918b",
   "metadata": {},
   "outputs": [],
   "source": [
    "from flask import Flask, request\n",
    "from slack_bolt import App\n",
    "from slack_bolt.adapter.flask import SlackRequestHandler\n",
    "app = App(token=SLACK_BOT_TOKEN, signing_secret=SLACK_SIGNING_SECRET)\n",
    "flask_app = Flask(__name__)\n",
    "handler = SlackRequestHandler(app)"
   ]
  },
  {
   "cell_type": "code",
   "execution_count": 6,
   "id": "d48725d5-b800-4996-a7a7-09d86c7f65d8",
   "metadata": {},
   "outputs": [],
   "source": [
    "# get_bot_user_id() #7"
   ]
  },
  {
   "cell_type": "markdown",
   "id": "f43d2397-017a-48f5-91c4-c5d0d7f5b3c4",
   "metadata": {},
   "source": [
    "# Initialize the Slack app and Flask app"
   ]
  },
  {
   "cell_type": "code",
   "execution_count": 7,
   "id": "dd8e17a1-6164-4d67-b91e-c11370492d4c",
   "metadata": {},
   "outputs": [],
   "source": [
    "app = App(token=SLACK_BOT_TOKEN, signing_secret=SLACK_SIGNING_SECRET)\n",
    "flask_app = Flask(__name__)\n",
    "handler = SlackRequestHandler(app)"
   ]
  },
  {
   "cell_type": "markdown",
   "id": "3d6dc27b-6e60-418a-a12a-3fb242d417ca",
   "metadata": {},
   "source": [
    "# Initialize the OpenAI-based language model"
   ]
  },
  {
   "cell_type": "code",
   "execution_count": 8,
   "id": "b8739c15-e26b-4598-9075-4b88d7ade039",
   "metadata": {},
   "outputs": [
    {
     "name": "stderr",
     "output_type": "stream",
     "text": [
      "C:\\Users\\asifr\\AppData\\Local\\anaconda3\\Lib\\site-packages\\langchain_core\\_api\\deprecation.py:119: LangChainDeprecationWarning: The class `ChatOpenAI` was deprecated in LangChain 0.0.10 and will be removed in 0.3.0. An updated version of the class exists in the langchain-openai package and should be used instead. To use it run `pip install -U langchain-openai` and import as `from langchain_openai import ChatOpenAI`.\n",
      "  warn_deprecated(\n"
     ]
    }
   ],
   "source": [
    "chat = ChatOpenAI(model_name=\"gpt-3.5-turbo\", temperature=0.7)"
   ]
  },
  {
   "cell_type": "markdown",
   "id": "56a3c6d1-b03d-4a12-a654-8e6763dc80c2",
   "metadata": {},
   "source": [
    "# Create a memory buffer for conversational context"
   ]
  },
  {
   "cell_type": "code",
   "execution_count": 9,
   "id": "880200f8-0824-4475-bee5-56d2e9d3c748",
   "metadata": {},
   "outputs": [],
   "source": [
    "memory = ConversationBufferMemory()"
   ]
  },
  {
   "cell_type": "markdown",
   "id": "ad6bb344-9a52-4dc2-a2fe-3a667597611a",
   "metadata": {},
   "source": [
    "# Create system and human prompts for Fredrick-specific conversations"
   ]
  },
  {
   "cell_type": "code",
   "execution_count": 10,
   "id": "d0bc2d55-d034-4234-b361-98cf5245f814",
   "metadata": {},
   "outputs": [],
   "source": [
    "system_template = \"\"\"\n",
    "You are Fredrick, an AI assistant working at the New Mexico Tax & Revenue Department. \n",
    "Your role is to assist with data-related queries, provide economic data on demand, and engage in meaningful conversations.\n",
    "\"\"\"\n",
    "system_message_prompt = SystemMessagePromptTemplate.from_template(system_template)\n",
    "\n",
    "human_template = \"User says: {user_input}.\"\n",
    "human_message_prompt = HumanMessagePromptTemplate.from_template(human_template)\n",
    "\n",
    "chat_prompt = ChatPromptTemplate.from_messages([system_message_prompt, human_message_prompt])"
   ]
  },
  {
   "cell_type": "markdown",
   "id": "7f93c152-ce2e-4f35-b488-f55653482cfc",
   "metadata": {},
   "source": [
    "# Create a conversational chain with memory for FRED-related queries"
   ]
  },
  {
   "cell_type": "code",
   "execution_count": 11,
   "id": "f99c1c6e-b0da-405f-9196-835d03fed3f4",
   "metadata": {},
   "outputs": [
    {
     "name": "stderr",
     "output_type": "stream",
     "text": [
      "C:\\Users\\asifr\\AppData\\Local\\anaconda3\\Lib\\site-packages\\langchain_core\\_api\\deprecation.py:119: LangChainDeprecationWarning: The class `LLMChain` was deprecated in LangChain 0.1.17 and will be removed in 0.3.0. Use RunnableSequence, e.g., `prompt | llm` instead.\n",
      "  warn_deprecated(\n"
     ]
    }
   ],
   "source": [
    "chain = LLMChain(llm=chat, prompt=chat_prompt, memory=memory)"
   ]
  },
  {
   "cell_type": "markdown",
   "id": "9236c65f-4d67-4dcb-9d8a-5b665b61f2e4",
   "metadata": {},
   "source": [
    "# Initialize the FRED API"
   ]
  },
  {
   "cell_type": "code",
   "execution_count": 12,
   "id": "6c07f30c-c0ab-446f-afac-7c9a012737b9",
   "metadata": {},
   "outputs": [],
   "source": [
    "fred = Fred(api_key=FRED_API_KEY)"
   ]
  },
  {
   "cell_type": "markdown",
   "id": "2364e1b3-7e6e-4963-8b0f-74efd6d6d3da",
   "metadata": {},
   "source": [
    "# Installing & importing functions"
   ]
  },
  {
   "cell_type": "code",
   "execution_count": 13,
   "id": "fe5abd6c-fca0-4eaa-b50c-a711a66ac8f9",
   "metadata": {},
   "outputs": [
    {
     "name": "stdout",
     "output_type": "stream",
     "text": [
      "Requirement already satisfied: functions in c:\\users\\asifr\\appdata\\roaming\\python\\python311\\site-packages (0.7.0)\n"
     ]
    },
    {
     "name": "stderr",
     "output_type": "stream",
     "text": [
      "WARNING: Skipping C:\\Users\\asifr\\AppData\\Local\\anaconda3\\Lib\\site-packages\\pyzmq-24.0.1.dist-info due to invalid metadata entry 'name'\n",
      "WARNING: Skipping C:\\Users\\asifr\\AppData\\Local\\anaconda3\\Lib\\site-packages\\pyzmq-24.0.1.dist-info due to invalid metadata entry 'name'\n",
      "WARNING: Skipping C:\\Users\\asifr\\AppData\\Local\\anaconda3\\Lib\\site-packages\\pyzmq-24.0.1.dist-info due to invalid metadata entry 'name'\n",
      "WARNING: Skipping C:\\Users\\asifr\\AppData\\Local\\anaconda3\\Lib\\site-packages\\pyzmq-24.0.1.dist-info due to invalid metadata entry 'name'\n"
     ]
    }
   ],
   "source": [
    "!pip install functions\n",
    "\n",
    "from functions import get_bot_user_id # 7\n",
    "from functions import fetch_historical_data_from_fred # 8\n",
    "from functions import get_series_id_from_keyword # 9"
   ]
  },
  {
   "cell_type": "markdown",
   "id": "71f784ba-e41f-469e-910a-a117f9601600",
   "metadata": {},
   "source": [
    "# Slack event handler for all messages"
   ]
  },
  {
   "cell_type": "code",
   "execution_count": 14,
   "id": "05713d9c-c7b8-44fb-9f36-74e8e4369351",
   "metadata": {},
   "outputs": [],
   "source": [
    "@app.event(\"message\")\n",
    "def handle_all_messages(event, say):\n",
    "    user_text = event.get(\"text\", \"\").lower()\n",
    "\n",
    "    # Respond to greetings\n",
    "    if user_text in [\"hi\", \"hello\", \"hey\"]:\n",
    "        say(\"Hi! I'm Fredrick, your AI Assistant at New Mexico Tax & Revenue, and I specialize in managing all data requests.. How can I help you today?\")\n",
    "        return\n",
    "\n",
    "    # Determine which data to fetch based on the user's request\n",
    "    keyword = re.search(r\"\\b(\\w+)\\b\", user_text).group(0)  # Extract the first word as the keyword\n",
    "    series_id = get_series_id_from_keyword(keyword)\n",
    "\n",
    "    if series_id:\n",
    "        historical_data = fetch_historical_data_from_fred(series_id)\n",
    "        say(f\"Data for {keyword.upper()} from FRED:\\n{historical_data}\")  # Provide data with source link\n",
    "    else:\n",
    "        # If the series ID is not found, provide a default message with a source URL\n",
    "        say(\"Sorry, I couldn't find any data for that query. You can check the FRED website for more information.\")\n",
    "\n"
   ]
  },
  {
   "cell_type": "markdown",
   "id": "17d90866-2d29-4ddf-9c61-04cd9b9d9380",
   "metadata": {},
   "source": [
    "# Flask endpoint for Slack events"
   ]
  },
  {
   "cell_type": "code",
   "execution_count": 15,
   "id": "fad872f3-afa5-435e-b751-ed551e6778de",
   "metadata": {},
   "outputs": [],
   "source": [
    "@flask_app.route(\"/slack/events-FRED\", methods=[\"POST\"])\n",
    "def slack_events():\n",
    "    return handler.handle(request)"
   ]
  },
  {
   "cell_type": "code",
   "execution_count": null,
   "id": "9293fca0-ca22-4594-b73d-2cc52e5b5cf2",
   "metadata": {},
   "outputs": [
    {
     "name": "stdout",
     "output_type": "stream",
     "text": [
      " * Serving Flask app '__main__'\n",
      " * Debug mode: off\n"
     ]
    },
    {
     "name": "stderr",
     "output_type": "stream",
     "text": [
      "WARNING: This is a development server. Do not use it in a production deployment. Use a production WSGI server instead.\n",
      " * Running on http://127.0.0.1:3000\n",
      "Press CTRL+C to quit\n"
     ]
    }
   ],
   "source": [
    "# Initialize and run the Flask app\n",
    "if __name__ == \"__main__\":\n",
    "    flask_app.run(port=3000)\n",
    "\n",
    "# ngrok start --config=ngrok-instance2.yml --all"
   ]
  },
  {
   "cell_type": "code",
   "execution_count": null,
   "id": "88c5cf62-c7a7-48e2-a33c-7f0bf0cb194e",
   "metadata": {},
   "outputs": [],
   "source": [
    "\n",
    "\n"
   ]
  }
 ],
 "metadata": {
  "kernelspec": {
   "display_name": "Python 3 (ipykernel)",
   "language": "python",
   "name": "python3"
  },
  "language_info": {
   "codemirror_mode": {
    "name": "ipython",
    "version": 3
   },
   "file_extension": ".py",
   "mimetype": "text/x-python",
   "name": "python",
   "nbconvert_exporter": "python",
   "pygments_lexer": "ipython3",
   "version": "3.11.7"
  }
 },
 "nbformat": 4,
 "nbformat_minor": 5
}
