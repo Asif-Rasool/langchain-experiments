{
 "cells": [
  {
   "cell_type": "code",
   "execution_count": null,
   "id": "57905827-ce32-4ef7-9a93-ff0e00a3282f",
   "metadata": {
    "scrolled": true
   },
   "outputs": [],
   "source": [
    "import pandas as pd\n",
    "\n",
    "# Load all sheets from the Excel file into a dictionary of DataFrames\n",
    "excel_file = r'C:\\Users\\asifr\\OneDrive - State of New Mexico\\Desktop\\Article 2 submission\\Supplementary materials\\Data and code\\Rev 1.02\\regression_results_rev_1.02.xlsx'\n",
    "dfs = pd.read_excel(excel_file, sheet_name=None)\n"
   ]
  },
  {
   "cell_type": "code",
   "execution_count": null,
   "id": "bbb47aaa-1dfc-43ca-a72d-1c1be3ba1246",
   "metadata": {},
   "outputs": [],
   "source": [
    "# Remove columns with no headers and the sixth column from each DataFrame\n",
    "for sheet_name, df in dfs.items():\n",
    "    # Convert column names to strings\n",
    "    df.columns = df.columns.astype(str)\n",
    "    # Find columns without headers (assuming they are NaN)\n",
    "    columns_without_headers = df.columns[df.columns.str.contains('^Unnamed:')]\n",
    "    # Drop columns without headers\n",
    "    if not columns_without_headers.empty:\n",
    "        df.drop(columns_without_headers, axis=1, inplace=True)\n",
    "    # Drop the sixth column\n",
    "    if len(df.columns) >= 6:\n",
    "        df.drop(df.columns[5], axis=1, inplace=True)\n",
    "\n",
    "# Print the sheet names and the first few rows of each DataFrame for verification\n",
    "for sheet_name, df in dfs.items():\n",
    "    print(f\"Sheet Name: {sheet_name}\")\n",
    "    print(df.head())\n",
    "    print()"
   ]
  },
  {
   "cell_type": "code",
   "execution_count": null,
   "id": "a82c5c08-090d-426b-9d11-575ed7c2b89b",
   "metadata": {},
   "outputs": [],
   "source": [
    "# Import the pandas library\n",
    "import pandas as pd\n",
    "\n",
    "def fetch_stock_data(ticker_symbol):\n",
    "    \"\"\"\n",
    "    Fetches historical stock data from Yahoo Finance for a given ticker symbol spanning the last ten years (or available data).\n",
    "\n",
    "    Args:\n",
    "    ticker_symbol (str): The ticker symbol of the stock.\n",
    "\n",
    "    Returns:\n",
    "    pd.DataFrame: A DataFrame containing historical stock data.\n",
    "    \"\"\"\n",
    "    try:\n",
    "        # Fetch stock data using the ticker symbol\n",
    "        stock_data = yf.Ticker(ticker_symbol)\n",
    "        \n",
    "        # Get historical data spanning the last ten years (or available data)\n",
    "        historical_data = stock_data.history(period=\"10y\")\n",
    "        \n",
    "        # Check if historical data is empty\n",
    "        if historical_data.empty:\n",
    "            print(\"No historical data available for\", ticker_symbol)\n",
    "            return None\n",
    "        \n",
    "        # Return the historical data DataFrame\n",
    "        return historical_data\n",
    "\n",
    "    except Exception as e:\n",
    "        # Handle any exceptions that may occur during fetching\n",
    "        print(\"Error fetching stock data:\", e)\n",
    "        return None\n",
    "\n",
    "# Example usage:\n",
    "historical_data = fetch_stock_data(\"AAPL\")\n",
    "print(historical_data)\n"
   ]
  },
  {
   "cell_type": "code",
   "execution_count": null,
   "id": "b64c20a5-2fa3-42f1-8dd3-421d849a2453",
   "metadata": {},
   "outputs": [],
   "source": [
    "# Import the yfinance library\n",
    "import yfinance as yf\n",
    "\n",
    "# Get a list of ticker symbols from the S&P 500 index\n",
    "sp500_symbols = yf.download(\"^GSPC\").index\n",
    "\n",
    "# Print ticker symbols\n",
    "for symbol in sp500_symbols:\n",
    "    print(symbol)\n"
   ]
  }
 ],
 "metadata": {
  "kernelspec": {
   "display_name": "Python 3 (ipykernel)",
   "language": "python",
   "name": "python3"
  },
  "language_info": {
   "codemirror_mode": {
    "name": "ipython",
    "version": 3
   },
   "file_extension": ".py",
   "mimetype": "text/x-python",
   "name": "python",
   "nbconvert_exporter": "python",
   "pygments_lexer": "ipython3",
   "version": "3.11.7"
  }
 },
 "nbformat": 4,
 "nbformat_minor": 5
}
